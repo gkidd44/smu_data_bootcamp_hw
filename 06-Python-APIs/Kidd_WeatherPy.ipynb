{
 "cells": [
  {
   "cell_type": "markdown",
   "metadata": {},
   "source": [
    "# WeatherPy\n",
    "----\n",
    "\n",
    "#### Note\n",
    "* Instructions have been included for each segment. You do not have to follow them exactly, but they are included to help you think through the steps."
   ]
  },
  {
   "cell_type": "code",
   "execution_count": 1,
   "metadata": {
    "scrolled": true
   },
   "outputs": [],
   "source": [
    "# Dependencies and Setup\n",
    "import matplotlib.pyplot as plt\n",
    "import pandas as pd\n",
    "import numpy as np\n",
    "import requests\n",
    "import time\n",
    "from scipy.stats import linregress\n",
    "\n",
    "# Import API key\n",
    "from api_keys import weather_api_key\n",
    "\n",
    "# Incorporated citipy to determine city based on latitude and longitude\n",
    "from citipy import citipy\n",
    "\n",
    "# Output File (CSV)\n",
    "output_data_file = \"output_data/cities.csv\"\n",
    "\n",
    "# Range of latitudes and longitudes\n",
    "lat_range = (-90, 90)\n",
    "lng_range = (-180, 180)"
   ]
  },
  {
   "cell_type": "markdown",
   "metadata": {},
   "source": [
    "## Generate Cities List"
   ]
  },
  {
   "cell_type": "code",
   "execution_count": 2,
   "metadata": {},
   "outputs": [
    {
     "data": {
      "text/plain": [
       "616"
      ]
     },
     "execution_count": 2,
     "metadata": {},
     "output_type": "execute_result"
    }
   ],
   "source": [
    "# List for holding lat_lngs and cities\n",
    "lat_lngs = []\n",
    "cities = []\n",
    "\n",
    "# Create a set of random lat and lng combinations\n",
    "lats = np.random.uniform(lat_range[0], lat_range[1], size=1500)\n",
    "lngs = np.random.uniform(lng_range[0], lng_range[1], size=1500)\n",
    "lat_lngs = zip(lats, lngs)\n",
    "\n",
    "# Identify nearest city for each lat, lng combination\n",
    "for lat_lng in lat_lngs:\n",
    "    city = citipy.nearest_city(lat_lng[0], lat_lng[1]).city_name\n",
    "    \n",
    "    # If the city is unique, then add it to a our cities list\n",
    "    if city not in cities:\n",
    "        cities.append(city)\n",
    "\n",
    "# Print the city count to confirm sufficient count\n",
    "len(cities)"
   ]
  },
  {
   "cell_type": "code",
   "execution_count": 52,
   "metadata": {},
   "outputs": [
    {
     "name": "stdout",
     "output_type": "stream",
     "text": [
      "1. tara\n",
      "2. klaksvik\n",
      "3. meadow lake\n",
      "4. punta arenas\n",
      "5. avarua\n",
      "6. illoqqortoormiut\n",
      "7. upernavik\n",
      "8. eidfjord\n",
      "9. vaini\n",
      "10. puerto ayora\n",
      "11. saleaula\n",
      "12. alofi\n",
      "13. butaritari\n",
      "14. tautira\n",
      "15. barrow\n",
      "16. cherskiy\n",
      "17. albany\n",
      "18. kurilsk\n",
      "19. fairbanks\n",
      "20. ushuaia\n",
      "21. yerbogachen\n",
      "22. avera\n",
      "23. laguna\n",
      "24. rikitea\n",
      "25. tumannyy\n",
      "26. basco\n",
      "27. rio tinto\n",
      "28. longyearbyen\n",
      "29. hermanus\n",
      "30. taolanaro\n",
      "31. busselton\n",
      "32. hilo\n",
      "33. winnemucca\n",
      "34. belushya guba\n",
      "35. mataura\n",
      "36. lebu\n",
      "37. road town\n",
      "38. nizhneyansk\n",
      "39. narsaq\n",
      "40. east london\n",
      "41. safranbolu\n",
      "42. jamestown\n",
      "43. ribeira grande\n",
      "44. flin flon\n",
      "45. saldanha\n",
      "46. sitka\n",
      "47. mount gambier\n",
      "48. vaitupu\n",
      "49. hasaki\n",
      "50. tsihombe\n",
      "51. riyadh\n",
      "52. new norfolk\n",
      "53. tambopata\n",
      "54. mys shmidta\n",
      "55. clyde river\n",
      "56. chuy\n",
      "57. port elizabeth\n",
      "58. katsuura\n",
      "59. inirida\n",
      "60. axim\n",
      "61. port shepstone\n",
      "62. wanaka\n",
      "63. severo-kurilsk\n",
      "64. gulshat\n",
      "65. cape town\n",
      "66. nanortalik\n",
      "67. antalya\n",
      "68. yellowknife\n",
      "69. attawapiskat\n",
      "70. golden\n",
      "71. port lincoln\n",
      "72. buala\n",
      "73. george town\n",
      "74. kahului\n",
      "75. saskylakh\n",
      "76. bredasdorp\n",
      "77. dikson\n",
      "78. thohoyandou\n",
      "79. san quintin\n",
      "80. port alfred\n",
      "81. khatanga\n",
      "82. bolbosi\n",
      "83. bethel\n",
      "84. mayo\n",
      "85. kiama\n",
      "86. grindavik\n",
      "87. goure\n",
      "88. kapaa\n",
      "89. padang\n",
      "90. namibe\n",
      "91. cabo san lucas\n",
      "92. bambous virieux\n",
      "93. tuatapere\n",
      "94. vokhma\n",
      "95. nassau\n",
      "96. esperance\n",
      "97. tarragona\n",
      "98. vila velha\n",
      "99. necochea\n",
      "100. saint-philippe\n",
      "101. hobart\n",
      "102. kavaratti\n",
      "103. basyanovskiy\n",
      "104. tambacounda\n",
      "105. deputatskiy\n",
      "106. paamiut\n",
      "107. chokurdakh\n",
      "108. luderitz\n",
      "109. san cristobal\n",
      "110. guhagar\n",
      "111. escanaba\n",
      "112. nikolskoye\n",
      "113. skalistyy\n",
      "114. saint george\n",
      "115. husavik\n",
      "116. boende\n",
      "117. torbay\n",
      "118. tazovskiy\n",
      "119. kazalinsk\n",
      "120. bandarbeyla\n",
      "121. kita\n",
      "122. portland\n",
      "123. cidreira\n",
      "124. norman wells\n",
      "125. mirnyy\n",
      "126. barentsburg\n",
      "127. maiduguri\n",
      "128. kodiak\n",
      "129. atuona\n",
      "130. arlit\n",
      "131. tiksi\n",
      "132. haibowan\n",
      "133. yulara\n",
      "134. aquiraz\n",
      "135. purpe\n",
      "136. joacaba\n",
      "137. qaanaaq\n",
      "138. kysyl-syr\n",
      "139. juneau\n",
      "140. suoyarvi\n",
      "141. xuddur\n",
      "142. karpathos\n",
      "143. zhaoqing\n",
      "144. simao\n",
      "145. winthrop\n",
      "146. samarai\n",
      "147. pangnirtung\n",
      "148. baykit\n",
      "149. lesnoye\n",
      "150. liverpool\n",
      "151. russell\n",
      "152. matamoros\n",
      "153. bluff\n",
      "154. zhigansk\n",
      "155. dauriya\n",
      "156. bar harbor\n",
      "157. belogorsk\n",
      "158. guerrero negro\n",
      "159. lorengau\n",
      "160. drayton valley\n",
      "161. mahebourg\n",
      "162. freeport\n",
      "163. whitehorse\n",
      "164. kununurra\n",
      "165. sao geraldo do araguaia\n",
      "166. sorong\n",
      "167. faanui\n",
      "168. mazara del vallo\n",
      "169. dingle\n",
      "170. rawlins\n",
      "171. natalio\n",
      "172. qaqortoq\n",
      "173. quatre cocos\n",
      "174. prince george\n",
      "175. gallup\n",
      "176. boyolangu\n",
      "177. srednekolymsk\n",
      "178. sao filipe\n",
      "179. yakeshi\n",
      "180. nong kung si\n",
      "181. tuktoyaktuk\n",
      "182. tasiilaq\n",
      "183. mateare\n",
      "184. ozernovskiy\n",
      "185. panguipulli\n",
      "186. marzuq\n",
      "187. wamba\n",
      "188. grand river south east\n",
      "189. ergani\n",
      "190. lapeer\n",
      "191. sao felix do xingu\n",
      "192. hurghada\n",
      "193. lagunillas\n",
      "194. brae\n",
      "195. louisville\n",
      "196. maraa\n",
      "197. ostrovnoy\n",
      "198. nantucket\n",
      "199. porto santo\n",
      "200. tilichiki\n",
      "201. udachnyy\n",
      "202. tatawin\n",
      "203. carberry\n",
      "204. bajil\n",
      "205. carnarvon\n",
      "206. crailsheim\n",
      "207. provideniya\n",
      "208. mehamn\n",
      "209. bambanglipuro\n",
      "210. mar del plata\n",
      "211. umm lajj\n",
      "212. moyale\n",
      "213. ust-kulom\n",
      "214. kaduna\n",
      "215. port-cartier\n",
      "216. kaitangata\n",
      "217. bom jesus\n",
      "218. la palma\n",
      "219. fengzhen\n",
      "220. abha\n",
      "221. naze\n",
      "222. camacupa\n",
      "223. grand gaube\n",
      "224. sentyabrskiy\n",
      "225. rocha\n",
      "226. garden city\n",
      "227. marsh harbour\n",
      "228. san juan\n",
      "229. geraldton\n",
      "230. pisco\n",
      "231. thinadhoo\n",
      "232. eyl\n",
      "233. castro\n",
      "234. stornoway\n",
      "235. olafsvik\n",
      "236. havre-saint-pierre\n",
      "237. kasamwa\n",
      "238. kieta\n",
      "239. sola\n",
      "240. qasigiannguit\n",
      "241. verkhoyansk\n",
      "242. igarka\n",
      "243. zavoaia\n",
      "244. nueva londres\n",
      "245. phuket\n",
      "246. lagoa\n",
      "247. kastamonu\n",
      "248. cochrane\n",
      "249. ancud\n",
      "250. dakar\n",
      "251. saint andrews\n",
      "252. pobe\n",
      "253. itambacuri\n",
      "254. adrar\n",
      "255. angoche\n",
      "256. chiquiza\n",
      "257. jurm\n",
      "258. turukhansk\n",
      "259. takoradi\n",
      "260. morondava\n",
      "261. holland\n",
      "262. isangel\n",
      "263. sorland\n",
      "264. terre-de-bas\n",
      "265. labuhan\n",
      "266. goderich\n",
      "267. mackay\n",
      "268. xinyu\n",
      "269. lompoc\n",
      "270. savelugu\n",
      "271. price\n",
      "272. bolungarvik\n",
      "273. barabai\n",
      "274. newton\n",
      "275. bandar-e lengeh\n",
      "276. mokolo\n",
      "277. conakry\n",
      "278. buraydah\n",
      "279. general roca\n",
      "280. kimbe\n",
      "281. toungoo\n",
      "282. tinskoy\n",
      "283. beringovskiy\n",
      "284. nguiu\n",
      "285. bacuit\n",
      "286. amderma\n",
      "287. lazarev\n",
      "288. georgetown\n",
      "289. griffith\n",
      "290. aleksandrov gay\n",
      "291. ponta do sol\n",
      "292. hithadhoo\n",
      "293. nan\n",
      "294. pevek\n",
      "295. flinders\n",
      "296. samana\n",
      "297. chiredzi\n",
      "298. westport\n",
      "299. panacan\n",
      "300. kidal\n",
      "301. minuri\n",
      "302. pong\n",
      "303. andilamena\n",
      "304. chignahuapan\n",
      "305. povoa de varzim\n",
      "306. constitucion\n",
      "307. taoudenni\n",
      "308. reyes\n",
      "309. kloulklubed\n",
      "310. erenhot\n",
      "311. quzhou\n",
      "312. gamboma\n",
      "313. champerico\n",
      "314. dongtai\n",
      "315. thompson\n",
      "316. airai\n",
      "317. port-gentil\n",
      "318. pachino\n",
      "319. batagay-alyta\n",
      "320. bereda\n",
      "321. sumenep\n",
      "322. cortez\n",
      "323. bireun\n",
      "324. cordoba\n",
      "325. stromness\n",
      "326. svetlogorsk\n",
      "327. arua\n",
      "328. bengkulu\n",
      "329. lixourion\n",
      "330. belyy yar\n",
      "331. iqaluit\n",
      "332. maldonado\n",
      "333. pacific grove\n",
      "334. cap malheureux\n",
      "335. masindi\n",
      "336. dzhebariki-khaya\n",
      "337. vestmanna\n",
      "338. seara\n",
      "339. kruisfontein\n",
      "340. altay\n",
      "341. davila\n",
      "342. vardo\n",
      "343. maumere\n",
      "344. college\n",
      "345. hambantota\n",
      "346. salvador\n",
      "347. potsdam\n",
      "348. margherita\n",
      "349. azar shahr\n",
      "350. lisakovsk\n",
      "351. wencheng\n",
      "352. richards bay\n",
      "353. bathsheba\n",
      "354. dieppe bay\n",
      "355. nemuro\n",
      "356. faya\n",
      "357. mayna\n",
      "358. havoysund\n",
      "359. winslow\n",
      "360. puerto penasco\n",
      "361. salalah\n",
      "362. touros\n",
      "363. arraial do cabo\n",
      "364. dawei\n",
      "365. xichang\n",
      "366. storforshei\n",
      "367. ulladulla\n",
      "368. hirara\n",
      "369. borogontsy\n",
      "370. fortuna\n",
      "371. saryg-sep\n",
      "372. mashhad\n",
      "373. san patricio\n",
      "374. halalo\n",
      "375. matagami\n",
      "376. saint-francois\n",
      "377. caravelas\n",
      "378. samusu\n",
      "379. victoria\n",
      "380. nouadhibou\n",
      "381. general cepeda\n",
      "382. iracoubo\n",
      "383. guarumal\n",
      "384. shakiso\n",
      "385. svetlaya\n",
      "386. pucallpa\n",
      "387. kavieng\n",
      "388. coihaique\n",
      "389. kaputa\n",
      "390. carballo\n",
      "391. mengcheng\n",
      "392. albox\n",
      "393. gorom-gorom\n",
      "394. seoul\n",
      "395. talnakh\n",
      "396. kubrat\n",
      "397. dodge city\n",
      "398. kegayli\n",
      "399. gamba\n",
      "400. egvekinot\n",
      "401. kompaniyivka\n",
      "402. khor\n",
      "403. aripuana\n",
      "404. dire\n",
      "405. ilulissat\n",
      "406. fare\n",
      "407. rio grande\n",
      "408. ngukurr\n",
      "409. uruzgan\n",
      "410. disa\n",
      "411. vakhrushev\n",
      "412. kaduqli\n",
      "413. kingston\n",
      "414. lahij\n",
      "415. svarstad\n",
      "416. ellisras\n",
      "417. anchorage\n",
      "418. kaohsiung\n",
      "419. mandera\n",
      "420. tevaitoa\n",
      "421. sai buri\n",
      "422. tulum\n",
      "423. leningradskiy\n",
      "424. sakaiminato\n",
      "425. georgiyevka\n",
      "426. makakilo city\n",
      "427. nosy varika\n",
      "428. mogzon\n",
      "429. college park\n",
      "430. nazareno\n",
      "431. warqla\n",
      "432. collie\n",
      "433. point pedro\n",
      "434. langsa\n",
      "435. den chai\n",
      "436. maltahohe\n",
      "437. jiujiang\n",
      "438. cubuk\n",
      "439. mwinilunga\n",
      "440. huainan\n",
      "441. aguimes\n",
      "442. tabiauea\n",
      "443. urumqi\n",
      "444. doha\n",
      "445. cochabamba\n",
      "446. tari\n",
      "447. usak\n",
      "448. mfou\n",
      "449. mundo nuevo\n",
      "450. sangar\n",
      "451. yar-sale\n",
      "452. tepic\n",
      "453. el faiyum\n",
      "454. aljezur\n",
      "455. manacapuru\n",
      "456. ozgon\n",
      "457. duz\n",
      "458. kassala\n",
      "459. homer\n",
      "460. gizo\n",
      "461. bahia honda\n",
      "462. fort nelson\n",
      "463. mochudi\n",
      "464. ayan\n",
      "465. cangzhou\n",
      "466. ahipara\n",
      "467. xining\n",
      "468. hami\n",
      "469. dunedin\n",
      "470. moerai\n",
      "471. kibala\n",
      "472. vao\n",
      "473. komsomolskiy\n",
      "474. killybegs\n",
      "475. sundsvall\n",
      "476. rab\n",
      "477. maneadero\n",
      "478. shahdadkot\n",
      "479. divnogorsk\n",
      "480. allanridge\n",
      "481. havelock\n",
      "482. lata\n",
      "483. zamania\n",
      "484. blagoyevo\n",
      "485. acarau\n",
      "486. osoyoos\n",
      "487. sarangani\n",
      "488. kleck\n",
      "489. marovoay\n",
      "490. nara\n",
      "491. palabuhanratu\n",
      "492. lewiston\n",
      "493. jabinyanah\n",
      "494. miri\n",
      "495. podporozhye\n",
      "496. lagunas\n",
      "497. ondangwa\n",
      "498. koslan\n",
      "499. tortosa\n",
      "500. great bend\n",
      "501. siguiri\n",
      "502. lichinga\n",
      "503. cockburn harbour\n",
      "504. sataua\n",
      "505. wah\n",
      "506. marakkanam\n",
      "507. tucuman\n",
      "508. aklavik\n",
      "509. vestmannaeyjar\n",
      "510. broome\n",
      "511. inhambane\n",
      "512. trincomalee\n",
      "513. lerwick\n",
      "514. saint-pierre\n",
      "515. mweka\n",
      "516. puerto colombia\n",
      "517. linapacan\n",
      "518. inuvik\n",
      "519. kargapolye\n",
      "520. shahreza\n",
      "521. maicao\n",
      "522. laredo\n",
      "523. cucutilla\n",
      "524. yurya\n",
      "525. medina\n",
      "526. semey\n",
      "527. mendi\n",
      "528. waddan\n",
      "529. bonthe\n",
      "530. klamath falls\n",
      "531. buta\n",
      "532. beian\n",
      "533. port blair\n",
      "534. kushima\n",
      "535. asau\n",
      "536. ishigaki\n",
      "537. moron\n",
      "538. la rioja\n",
      "539. longyan\n",
      "540. pravdinsk\n",
      "541. romodanovo\n",
      "542. ailigandi\n",
      "543. nykoping\n",
      "544. gillette\n",
      "545. khovu-aksy\n",
      "546. tiznit\n",
      "547. cairns\n",
      "548. luba\n",
      "549. la joya\n",
      "550. tarakan\n",
      "551. natal\n",
      "552. broken hill\n",
      "553. bur gabo\n",
      "554. sawakin\n",
      "555. baruun-urt\n",
      "556. coahuayana\n",
      "557. shenjiamen\n",
      "558. pemangkat\n",
      "559. kalabo\n",
      "560. victor harbor\n",
      "561. jacareacanga\n",
      "562. comodoro rivadavia\n",
      "563. isoka\n",
      "564. aykhal\n",
      "565. mayfield\n",
      "566. nsanje\n",
      "567. shizunai\n",
      "568. half moon bay\n",
      "569. ixtapa\n",
      "570. yelabuga\n",
      "571. soyo\n",
      "572. chancay\n",
      "573. deep river\n",
      "574. temaraia\n",
      "575. matara\n",
      "576. nizwa\n",
      "577. nchelenge\n",
      "578. saryshagan\n",
      "579. qom\n",
      "580. boguchany\n",
      "581. vila\n",
      "582. port pirie\n",
      "583. susanville\n",
      "584. constantine\n",
      "585. utiroa\n",
      "586. codrington\n",
      "587. plettenberg bay\n",
      "588. acapulco\n",
      "589. wyndham\n",
      "590. praia da vitoria\n",
      "591. sapa\n",
      "592. atyrau\n",
      "593. luanda\n",
      "594. karratha\n",
      "595. magaria\n",
      "596. qiongshan\n",
      "597. pecos\n",
      "598. jawhar\n",
      "599. sistranda\n",
      "600. meulaboh\n",
      "601. yumen\n",
      "602. hajnowka\n",
      "603. amapa\n",
      "604. enshi\n",
      "605. vedaranniyam\n",
      "606. hamilton\n",
      "607. neuquen\n",
      "608. kathmandu\n",
      "609. mancora\n",
      "610. hofn\n",
      "611. bredy\n",
      "612. fukue\n",
      "613. eenhana\n",
      "614. puyang\n",
      "615. abu kamal\n",
      "616. puerto leguizamo\n"
     ]
    }
   ],
   "source": [
    "i = 0\n",
    "for city in cities:\n",
    "    i+=1\n",
    "    print(f\"{i}. {city}\")"
   ]
  },
  {
   "cell_type": "markdown",
   "metadata": {},
   "source": [
    "### Perform API Calls\n",
    "* Perform a weather check on each city using a series of successive API calls.\n",
    "* Include a print log of each city as it'sbeing processed (with the city number and city name).\n"
   ]
  },
  {
   "cell_type": "code",
   "execution_count": 22,
   "metadata": {
    "scrolled": true
   },
   "outputs": [
    {
     "name": "stdout",
     "output_type": "stream",
     "text": [
      "\n",
      "Index: 0, City: tara\n",
      "no lat/long for saleaula\n",
      "no lat/long for cherskiy\n",
      "no lat/long for tumannyy\n",
      "no lat/long for taolanaro\n",
      "\n",
      "Index: 50, City: riyadh\n",
      "no lat/long for gulshat\n",
      "no lat/long for vokhma\n",
      "\n",
      "Index: 100, City: hobart\n",
      "no lat/long for basyanovskiy\n",
      "no lat/long for skalistyy\n",
      "no lat/long for tazovskiy\n",
      "\n",
      "Index: 150, City: russell\n",
      "\n",
      "Index: 200, City: udachnyy\n",
      "no lat/long for tatawin\n",
      "no lat/long for bambanglipuro\n",
      "no lat/long for sentyabrskiy\n",
      "\n",
      "Index: 250, City: saint andrews\n",
      "no lat/long for tinskoy\n",
      "no lat/long for beringovskiy\n",
      "\n",
      "Index: 300, City: minuri\n",
      "no lat/long for bireun\n",
      "no lat/long for lixourion\n",
      "no lat/long for azar shahr\n",
      "\n",
      "Index: 350, City: wencheng\n",
      "no lat/long for kegayli\n",
      "\n",
      "Index: 400, City: kompaniyivka\n",
      "no lat/long for kompaniyivka\n",
      "no lat/long for uruzgan\n",
      "no lat/long for warqla\n",
      "no lat/long for tabiauea\n",
      "\n",
      "Index: 450, City: yar-sale\n",
      "no lat/long for yar-sale\n",
      "no lat/long for jabinyanah\n",
      "\n",
      "Index: 500, City: siguiri\n",
      "no lat/long for kargapolye\n",
      "\n",
      "Index: 550, City: natal\n",
      "no lat/long for bur gabo\n",
      "no lat/long for shizunai\n",
      "no lat/long for temaraia\n",
      "no lat/long for saryshagan\n",
      "\n",
      "Index: 600, City: yumen\n",
      "no lat/long for vedaranniyam\n"
     ]
    }
   ],
   "source": [
    "# This code cell is taken from the course instructor's starter code file. I do not claim writing it, but I do understand what\n",
    "# it is doing, in that it is requesting info from the Weather API, receiving it, and compiling it in a list for further use.\n",
    "\n",
    "rows = []\n",
    "\n",
    "for i in range(len(cities)):\n",
    "    city = cities[i]\n",
    "    \n",
    "    # only print every 50th city\n",
    "    if i % 50 == 0:\n",
    "        print()\n",
    "        print(f\"Index: {i}, City: {city}\")\n",
    "    \n",
    "    row = {}\n",
    "    try:\n",
    "    \n",
    "        # get the geocode, lat and long\n",
    "        url = f\"http://api.openweathermap.org/geo/1.0/direct?q={city}&appid={weather_api_key}\"\n",
    "        response = requests.get(url)\n",
    "\n",
    "        if (response.status_code == 200):\n",
    "            data = response.json()\n",
    "\n",
    "            # parse data\n",
    "            if (len(data) > 0):\n",
    "                lat = data[0][\"lat\"]\n",
    "                lon = data[0][\"lon\"]\n",
    "\n",
    "                # make second request to get weather\n",
    "                url2 = f'https://api.openweathermap.org/data/2.5/weather?lat={lat}&lon={lon}&appid={weather_api_key}&units=imperial'\n",
    "                response2 = requests.get(url2)\n",
    "\n",
    "                if (response2.status_code == 200):\n",
    "                    data2 = response2.json()\n",
    "\n",
    "                    # parse data\n",
    "                    weather = data2[\"weather\"][0][\"main\"]\n",
    "                    temp = data2[\"main\"][\"temp\"]\n",
    "                    humid = data2[\"main\"][\"humidity\"]\n",
    "                    pressure = data2[\"main\"][\"pressure\"]\n",
    "                    wind = data2[\"wind\"][\"speed\"]\n",
    "                    clouds = data2[\"clouds\"][\"all\"]\n",
    "                else:\n",
    "                    print(f\"Weather request failed for {city}\")\n",
    "                    weather = None\n",
    "                    temp = np.nan\n",
    "                    humid = np.nan\n",
    "                    pressure = np.nan\n",
    "                    wind = np.nan\n",
    "                    clouds = np.nan\n",
    "\n",
    "                # put into flat dictionary\n",
    "                row[\"city\"] = city\n",
    "                row[\"latitude\"] = lat\n",
    "                row[\"longitude\"] = lon\n",
    "                row[\"weather\"] = weather\n",
    "                row[\"temperature\"] = temp\n",
    "                row[\"humidity\"] = humid\n",
    "                row[\"pressure\"] = pressure\n",
    "                row[\"wind_speed\"] = wind\n",
    "                row[\"cloudiness\"] = clouds\n",
    "\n",
    "                # append to list\n",
    "                rows.append(row)\n",
    "\n",
    "            else:\n",
    "                print(f\"no lat/long for {city}\")\n",
    "                pass\n",
    "        else:\n",
    "            print(f\"failed request for geocode for {city}\")\n",
    "            pass\n",
    "    except Exception as e:\n",
    "        print(e)\n",
    "        print(f\"Oh no! Everything failed and broke for {city}. There should be an error above. Sux\")\n",
    "        print()\n",
    "        \n",
    "    # sleep\n",
    "    time.sleep(2)"
   ]
  },
  {
   "cell_type": "markdown",
   "metadata": {},
   "source": [
    "### Convert Raw Data to DataFrame\n",
    "* Export the city data into a .csv.\n",
    "* Display the DataFrame"
   ]
  },
  {
   "cell_type": "code",
   "execution_count": 23,
   "metadata": {},
   "outputs": [
    {
     "data": {
      "text/html": [
       "<div>\n",
       "<style scoped>\n",
       "    .dataframe tbody tr th:only-of-type {\n",
       "        vertical-align: middle;\n",
       "    }\n",
       "\n",
       "    .dataframe tbody tr th {\n",
       "        vertical-align: top;\n",
       "    }\n",
       "\n",
       "    .dataframe thead th {\n",
       "        text-align: right;\n",
       "    }\n",
       "</style>\n",
       "<table border=\"1\" class=\"dataframe\">\n",
       "  <thead>\n",
       "    <tr style=\"text-align: right;\">\n",
       "      <th></th>\n",
       "      <th>city</th>\n",
       "      <th>latitude</th>\n",
       "      <th>longitude</th>\n",
       "      <th>weather</th>\n",
       "      <th>temperature</th>\n",
       "      <th>humidity</th>\n",
       "      <th>pressure</th>\n",
       "      <th>wind_speed</th>\n",
       "      <th>cloudiness</th>\n",
       "    </tr>\n",
       "  </thead>\n",
       "  <tbody>\n",
       "    <tr>\n",
       "      <th>0</th>\n",
       "      <td>tara</td>\n",
       "      <td>47.390047</td>\n",
       "      <td>0.688927</td>\n",
       "      <td>Clear</td>\n",
       "      <td>48.33</td>\n",
       "      <td>88</td>\n",
       "      <td>1018</td>\n",
       "      <td>3.44</td>\n",
       "      <td>0</td>\n",
       "    </tr>\n",
       "    <tr>\n",
       "      <th>1</th>\n",
       "      <td>klaksvik</td>\n",
       "      <td>62.226608</td>\n",
       "      <td>-6.585271</td>\n",
       "      <td>Rain</td>\n",
       "      <td>49.24</td>\n",
       "      <td>93</td>\n",
       "      <td>979</td>\n",
       "      <td>22.48</td>\n",
       "      <td>90</td>\n",
       "    </tr>\n",
       "    <tr>\n",
       "      <th>2</th>\n",
       "      <td>meadow lake</td>\n",
       "      <td>54.130260</td>\n",
       "      <td>-108.435059</td>\n",
       "      <td>Clouds</td>\n",
       "      <td>8.58</td>\n",
       "      <td>72</td>\n",
       "      <td>1025</td>\n",
       "      <td>4.61</td>\n",
       "      <td>100</td>\n",
       "    </tr>\n",
       "    <tr>\n",
       "      <th>3</th>\n",
       "      <td>punta arenas</td>\n",
       "      <td>-53.162569</td>\n",
       "      <td>-70.907822</td>\n",
       "      <td>Clouds</td>\n",
       "      <td>51.30</td>\n",
       "      <td>43</td>\n",
       "      <td>1007</td>\n",
       "      <td>19.51</td>\n",
       "      <td>89</td>\n",
       "    </tr>\n",
       "    <tr>\n",
       "      <th>4</th>\n",
       "      <td>avarua</td>\n",
       "      <td>-21.207474</td>\n",
       "      <td>-159.770815</td>\n",
       "      <td>Clouds</td>\n",
       "      <td>76.98</td>\n",
       "      <td>73</td>\n",
       "      <td>1018</td>\n",
       "      <td>13.80</td>\n",
       "      <td>20</td>\n",
       "    </tr>\n",
       "  </tbody>\n",
       "</table>\n",
       "</div>"
      ],
      "text/plain": [
       "           city   latitude   longitude weather  temperature  humidity  \\\n",
       "0          tara  47.390047    0.688927   Clear        48.33        88   \n",
       "1      klaksvik  62.226608   -6.585271    Rain        49.24        93   \n",
       "2   meadow lake  54.130260 -108.435059  Clouds         8.58        72   \n",
       "3  punta arenas -53.162569  -70.907822  Clouds        51.30        43   \n",
       "4        avarua -21.207474 -159.770815  Clouds        76.98        73   \n",
       "\n",
       "   pressure  wind_speed  cloudiness  \n",
       "0      1018        3.44           0  \n",
       "1       979       22.48          90  \n",
       "2      1025        4.61         100  \n",
       "3      1007       19.51          89  \n",
       "4      1018       13.80          20  "
      ]
     },
     "execution_count": 23,
     "metadata": {},
     "output_type": "execute_result"
    }
   ],
   "source": [
    "weather_df = pd.DataFrame(rows)\n",
    "weather_df.head()"
   ]
  },
  {
   "cell_type": "code",
   "execution_count": 24,
   "metadata": {},
   "outputs": [
    {
     "data": {
      "text/html": [
       "<div>\n",
       "<style scoped>\n",
       "    .dataframe tbody tr th:only-of-type {\n",
       "        vertical-align: middle;\n",
       "    }\n",
       "\n",
       "    .dataframe tbody tr th {\n",
       "        vertical-align: top;\n",
       "    }\n",
       "\n",
       "    .dataframe thead th {\n",
       "        text-align: right;\n",
       "    }\n",
       "</style>\n",
       "<table border=\"1\" class=\"dataframe\">\n",
       "  <thead>\n",
       "    <tr style=\"text-align: right;\">\n",
       "      <th></th>\n",
       "      <th>latitude</th>\n",
       "      <th>longitude</th>\n",
       "      <th>temperature</th>\n",
       "      <th>humidity</th>\n",
       "      <th>pressure</th>\n",
       "      <th>wind_speed</th>\n",
       "      <th>cloudiness</th>\n",
       "    </tr>\n",
       "  </thead>\n",
       "  <tbody>\n",
       "    <tr>\n",
       "      <th>count</th>\n",
       "      <td>586.000000</td>\n",
       "      <td>586.000000</td>\n",
       "      <td>586.000000</td>\n",
       "      <td>586.000000</td>\n",
       "      <td>586.000000</td>\n",
       "      <td>586.000000</td>\n",
       "      <td>586.000000</td>\n",
       "    </tr>\n",
       "    <tr>\n",
       "      <th>mean</th>\n",
       "      <td>21.169982</td>\n",
       "      <td>12.139258</td>\n",
       "      <td>56.926502</td>\n",
       "      <td>73.597270</td>\n",
       "      <td>1013.953925</td>\n",
       "      <td>8.322218</td>\n",
       "      <td>56.616041</td>\n",
       "    </tr>\n",
       "    <tr>\n",
       "      <th>std</th>\n",
       "      <td>32.527637</td>\n",
       "      <td>88.499993</td>\n",
       "      <td>24.106265</td>\n",
       "      <td>20.227634</td>\n",
       "      <td>8.714048</td>\n",
       "      <td>6.519607</td>\n",
       "      <td>40.278106</td>\n",
       "    </tr>\n",
       "    <tr>\n",
       "      <th>min</th>\n",
       "      <td>-54.806116</td>\n",
       "      <td>-179.413096</td>\n",
       "      <td>-34.220000</td>\n",
       "      <td>10.000000</td>\n",
       "      <td>978.000000</td>\n",
       "      <td>0.000000</td>\n",
       "      <td>0.000000</td>\n",
       "    </tr>\n",
       "    <tr>\n",
       "      <th>25%</th>\n",
       "      <td>-5.111819</td>\n",
       "      <td>-66.870738</td>\n",
       "      <td>43.090000</td>\n",
       "      <td>62.250000</td>\n",
       "      <td>1010.000000</td>\n",
       "      <td>3.650000</td>\n",
       "      <td>14.250000</td>\n",
       "    </tr>\n",
       "    <tr>\n",
       "      <th>50%</th>\n",
       "      <td>25.077544</td>\n",
       "      <td>17.387980</td>\n",
       "      <td>63.905000</td>\n",
       "      <td>79.000000</td>\n",
       "      <td>1013.000000</td>\n",
       "      <td>6.735000</td>\n",
       "      <td>73.500000</td>\n",
       "    </tr>\n",
       "    <tr>\n",
       "      <th>75%</th>\n",
       "      <td>47.080510</td>\n",
       "      <td>88.325363</td>\n",
       "      <td>76.442500</td>\n",
       "      <td>88.750000</td>\n",
       "      <td>1019.000000</td>\n",
       "      <td>10.860000</td>\n",
       "      <td>100.000000</td>\n",
       "    </tr>\n",
       "    <tr>\n",
       "      <th>max</th>\n",
       "      <td>81.142079</td>\n",
       "      <td>178.680784</td>\n",
       "      <td>96.030000</td>\n",
       "      <td>100.000000</td>\n",
       "      <td>1038.000000</td>\n",
       "      <td>39.640000</td>\n",
       "      <td>100.000000</td>\n",
       "    </tr>\n",
       "  </tbody>\n",
       "</table>\n",
       "</div>"
      ],
      "text/plain": [
       "         latitude   longitude  temperature    humidity     pressure  \\\n",
       "count  586.000000  586.000000   586.000000  586.000000   586.000000   \n",
       "mean    21.169982   12.139258    56.926502   73.597270  1013.953925   \n",
       "std     32.527637   88.499993    24.106265   20.227634     8.714048   \n",
       "min    -54.806116 -179.413096   -34.220000   10.000000   978.000000   \n",
       "25%     -5.111819  -66.870738    43.090000   62.250000  1010.000000   \n",
       "50%     25.077544   17.387980    63.905000   79.000000  1013.000000   \n",
       "75%     47.080510   88.325363    76.442500   88.750000  1019.000000   \n",
       "max     81.142079  178.680784    96.030000  100.000000  1038.000000   \n",
       "\n",
       "       wind_speed  cloudiness  \n",
       "count  586.000000  586.000000  \n",
       "mean     8.322218   56.616041  \n",
       "std      6.519607   40.278106  \n",
       "min      0.000000    0.000000  \n",
       "25%      3.650000   14.250000  \n",
       "50%      6.735000   73.500000  \n",
       "75%     10.860000  100.000000  \n",
       "max     39.640000  100.000000  "
      ]
     },
     "execution_count": 24,
     "metadata": {},
     "output_type": "execute_result"
    }
   ],
   "source": [
    "weather_df.describe()"
   ]
  },
  {
   "cell_type": "code",
   "execution_count": 25,
   "metadata": {},
   "outputs": [],
   "source": [
    "weather_df.to_csv(output_data_file, index=False)"
   ]
  },
  {
   "cell_type": "markdown",
   "metadata": {},
   "source": [
    "## Inspect the data and remove the cities where the humidity > 100%.\n",
    "----\n",
    "Skip this step if there are no cities that have humidity > 100%. "
   ]
  },
  {
   "cell_type": "code",
   "execution_count": 26,
   "metadata": {},
   "outputs": [
    {
     "data": {
      "text/html": [
       "<div>\n",
       "<style scoped>\n",
       "    .dataframe tbody tr th:only-of-type {\n",
       "        vertical-align: middle;\n",
       "    }\n",
       "\n",
       "    .dataframe tbody tr th {\n",
       "        vertical-align: top;\n",
       "    }\n",
       "\n",
       "    .dataframe thead th {\n",
       "        text-align: right;\n",
       "    }\n",
       "</style>\n",
       "<table border=\"1\" class=\"dataframe\">\n",
       "  <thead>\n",
       "    <tr style=\"text-align: right;\">\n",
       "      <th></th>\n",
       "      <th>city</th>\n",
       "      <th>latitude</th>\n",
       "      <th>longitude</th>\n",
       "      <th>weather</th>\n",
       "      <th>temperature</th>\n",
       "      <th>humidity</th>\n",
       "      <th>pressure</th>\n",
       "      <th>wind_speed</th>\n",
       "      <th>cloudiness</th>\n",
       "    </tr>\n",
       "  </thead>\n",
       "  <tbody>\n",
       "  </tbody>\n",
       "</table>\n",
       "</div>"
      ],
      "text/plain": [
       "Empty DataFrame\n",
       "Columns: [city, latitude, longitude, weather, temperature, humidity, pressure, wind_speed, cloudiness]\n",
       "Index: []"
      ]
     },
     "execution_count": 26,
     "metadata": {},
     "output_type": "execute_result"
    }
   ],
   "source": [
    "mask = weather_df.humidity > 100\n",
    "weather_df.loc[mask]"
   ]
  },
  {
   "cell_type": "code",
   "execution_count": 27,
   "metadata": {},
   "outputs": [
    {
     "name": "stdout",
     "output_type": "stream",
     "text": [
      "<class 'pandas.core.frame.DataFrame'>\n",
      "RangeIndex: 586 entries, 0 to 585\n",
      "Data columns (total 9 columns):\n",
      " #   Column       Non-Null Count  Dtype  \n",
      "---  ------       --------------  -----  \n",
      " 0   city         586 non-null    object \n",
      " 1   latitude     586 non-null    float64\n",
      " 2   longitude    586 non-null    float64\n",
      " 3   weather      586 non-null    object \n",
      " 4   temperature  586 non-null    float64\n",
      " 5   humidity     586 non-null    int64  \n",
      " 6   pressure     586 non-null    int64  \n",
      " 7   wind_speed   586 non-null    float64\n",
      " 8   cloudiness   586 non-null    int64  \n",
      "dtypes: float64(4), int64(3), object(2)\n",
      "memory usage: 41.3+ KB\n"
     ]
    }
   ],
   "source": [
    "weather_df.info()"
   ]
  },
  {
   "cell_type": "markdown",
   "metadata": {},
   "source": [
    "## Plotting the Data\n",
    "* Use proper labeling of the plots using plot titles (including date of analysis) and axes labels.\n",
    "* Save the plotted figures as .pngs."
   ]
  },
  {
   "cell_type": "markdown",
   "metadata": {},
   "source": [
    "## Latitude vs. Temperature Plot"
   ]
  },
  {
   "cell_type": "code",
   "execution_count": 28,
   "metadata": {
    "scrolled": false
   },
   "outputs": [
    {
     "data": {
      "image/png": "[encoded data removed]",
      "text/plain": [
       "<Figure size 720x432 with 1 Axes>"
      ]
     },
     "metadata": {
      "needs_background": "light"
     },
     "output_type": "display_data"
    }
   ],
   "source": [
    "plt.figure(figsize=(10,6))\n",
    "plt.scatter(weather_df.latitude, weather_df.temperature)\n",
    "plt.title(\"Latitude vs Temperature - 09NOV2022\")\n",
    "plt.xlabel('latitude')\n",
    "plt.ylabel('temperature')\n",
    "plt.show()"
   ]
  },
  {
   "cell_type": "markdown",
   "metadata": {},
   "source": [
    "The above scatter plot displays data for the current temperature of all of the cities of interest, versus their latitude value on the Earth."
   ]
  },
  {
   "cell_type": "markdown",
   "metadata": {},
   "source": [
    "## Latitude vs. Humidity Plot"
   ]
  },
  {
   "cell_type": "code",
   "execution_count": 29,
   "metadata": {
    "scrolled": true
   },
   "outputs": [
    {
     "data": {
      "image/png": "[encoded data removed]",
      "text/plain": [
       "<Figure size 720x432 with 1 Axes>"
      ]
     },
     "metadata": {
      "needs_background": "light"
     },
     "output_type": "display_data"
    }
   ],
   "source": [
    "plt.figure(figsize=(10,6))\n",
    "plt.scatter(weather_df.latitude, weather_df.humidity)\n",
    "plt.title(\"Latitude vs Humidity - 09NOV2022\")\n",
    "plt.xlabel('Latitude')\n",
    "plt.ylabel('Humidity')\n",
    "plt.show()"
   ]
  },
  {
   "cell_type": "markdown",
   "metadata": {},
   "source": [
    "The above scatter plot displays data for the current humidity of all of the cities of interest, versus their latitude value on the Earth. Data appears to show that humidity is higher as latitude is higher."
   ]
  },
  {
   "cell_type": "markdown",
   "metadata": {},
   "source": [
    "## Latitude vs. Cloudiness Plot"
   ]
  },
  {
   "cell_type": "code",
   "execution_count": 32,
   "metadata": {
    "scrolled": true
   },
   "outputs": [
    {
     "data": {
      "image/png": "[encoded data removed]",
      "text/plain": [
       "<Figure size 720x432 with 1 Axes>"
      ]
     },
     "metadata": {
      "needs_background": "light"
     },
     "output_type": "display_data"
    }
   ],
   "source": [
    "plt.figure(figsize=(10,6))\n",
    "plt.scatter(weather_df.latitude, weather_df.cloudiness)\n",
    "plt.title(\"Latitude vs Cloudiness - 09NOV2022\")\n",
    "plt.xlabel('Latitude')\n",
    "plt.ylabel('Cloudiness (%)')\n",
    "plt.show()"
   ]
  },
  {
   "cell_type": "markdown",
   "metadata": {},
   "source": [
    "The above scatter plot displays data for the current cloudiness percentage of all of the cities of interest, versus their latitude value on the Earth. Data appears to show that cloudiness varies and does not correlate with latitude."
   ]
  },
  {
   "cell_type": "markdown",
   "metadata": {},
   "source": [
    "## Latitude vs. Wind Speed Plot"
   ]
  },
  {
   "cell_type": "code",
   "execution_count": 34,
   "metadata": {
    "scrolled": true
   },
   "outputs": [
    {
     "data": {
      "image/png": "[encoded data removed]",
      "text/plain": [
       "<Figure size 720x432 with 1 Axes>"
      ]
     },
     "metadata": {
      "needs_background": "light"
     },
     "output_type": "display_data"
    }
   ],
   "source": [
    "plt.figure(figsize=(10,6))\n",
    "plt.scatter(weather_df.latitude, weather_df.wind_speed)\n",
    "plt.title(\"Latitude vs Wind Speed - 09NOV2022\")\n",
    "plt.xlabel('Latitude')\n",
    "plt.ylabel('Wind Speed (meters/sec)')\n",
    "plt.show()"
   ]
  },
  {
   "cell_type": "markdown",
   "metadata": {},
   "source": [
    "The above scatter plot displays data for the current wind speed of all of the cities of interest, versus their latitude value on the Earth. Data appears to show that wind speed is generally below 10 meters per second, regardless of a city's latitude."
   ]
  },
  {
   "cell_type": "markdown",
   "metadata": {},
   "source": [
    "## Linear Regression"
   ]
  },
  {
   "cell_type": "markdown",
   "metadata": {},
   "source": [
    "####  Northern Hemisphere - Max Temp vs. Latitude Linear Regression"
   ]
  },
  {
   "cell_type": "code",
   "execution_count": 41,
   "metadata": {},
   "outputs": [
    {
     "name": "stdout",
     "output_type": "stream",
     "text": [
      "The r-squared is: 0.7140760908293732\n"
     ]
    },
    {
     "data": {
      "image/png": "[encoded data removed]",
      "text/plain": [
       "<Figure size 432x288 with 1 Axes>"
      ]
     },
     "metadata": {
      "needs_background": "light"
     },
     "output_type": "display_data"
    }
   ],
   "source": [
    "# The code cell again is borrowed and credited to the course instructor with some minor tweaks. I do understand that this code\n",
    "# is constructing a scatter plot of max temp vs latitude for cities located in the northern hemisphere, and also displaying a \n",
    "# regression line that emphasizes a correlation of data for as a city is higher in latitude, it is also lower in temperature.\n",
    "\n",
    "df2 = weather_df.loc[weather_df.latitude > 0].reset_index(drop=True)\n",
    "\n",
    "# Print out the r-squared value along with the plot.\n",
    "x_values = df2['latitude']\n",
    "y_values = df2['temperature']\n",
    "\n",
    "(slope, intercept, rvalue, pvalue, stderr) = linregress(x_values, y_values)\n",
    "regress_values = x_values * slope + intercept\n",
    "line_eq = \"y = \" + str(round(slope,2)) + \"x + \" + str(round(intercept,2))\n",
    "\n",
    "plt.scatter(x_values,y_values)\n",
    "plt.plot(x_values,regress_values,\"r-\")\n",
    "plt.annotate(line_eq,(10,0),fontsize=15,color=\"red\")\n",
    "plt.xlabel('latitude')\n",
    "plt.ylabel('temperature')\n",
    "print(f\"The r-squared is: {rvalue**2}\")\n",
    "plt.show()"
   ]
  },
  {
   "cell_type": "markdown",
   "metadata": {},
   "source": [
    "The scatter plot and regession model above shows that there is a correlation in data for cities in latitude and temperature, where the higher the latitude of the city, generally the temperature will be lower."
   ]
  },
  {
   "cell_type": "markdown",
   "metadata": {},
   "source": [
    "####  Southern Hemisphere - Max Temp vs. Latitude Linear Regression"
   ]
  },
  {
   "cell_type": "code",
   "execution_count": 39,
   "metadata": {},
   "outputs": [
    {
     "name": "stdout",
     "output_type": "stream",
     "text": [
      "The r-squared is: 0.38319138776080774\n"
     ]
    },
    {
     "data": {
      "image/png": "[encoded data removed]",
      "text/plain": [
       "<Figure size 432x288 with 1 Axes>"
      ]
     },
     "metadata": {
      "needs_background": "light"
     },
     "output_type": "display_data"
    }
   ],
   "source": [
    "df3 = weather_df.loc[weather_df.latitude < 0].reset_index(drop=True)\n",
    "\n",
    "x_values = df3['latitude']\n",
    "y_values = df3['temperature']\n",
    "\n",
    "(slope, intercept, rvalue, pvalue, stderr) = linregress(x_values, y_values)\n",
    "regress_values = x_values * slope + intercept\n",
    "line_eq = \"y = \" + str(round(slope,2)) + \"x + \" + str(round(intercept,2))\n",
    "\n",
    "plt.scatter(x_values,y_values)\n",
    "plt.plot(x_values,regress_values,\"r-\")\n",
    "plt.annotate(line_eq,(10,0),fontsize=15,color=\"red\")\n",
    "plt.xlabel('latitude')\n",
    "plt.ylabel('temperature')\n",
    "print(f\"The r-squared is: {rvalue**2}\")\n",
    "plt.show()"
   ]
  },
  {
   "cell_type": "markdown",
   "metadata": {},
   "source": [
    "The scatter plot and regession model above shows that there is a correlation in data for cities in latitude and temperature, where the higher the latitude of the city, generally the temperature will be higher as well."
   ]
  },
  {
   "cell_type": "markdown",
   "metadata": {},
   "source": [
    "####  Northern Hemisphere - Humidity (%) vs. Latitude Linear Regression"
   ]
  },
  {
   "cell_type": "code",
   "execution_count": 42,
   "metadata": {},
   "outputs": [
    {
     "name": "stdout",
     "output_type": "stream",
     "text": [
      "The r-squared is: 0.08274442754466026\n"
     ]
    },
    {
     "data": {
      "image/png": "[encoded data removed]",
      "text/plain": [
       "<Figure size 432x288 with 1 Axes>"
      ]
     },
     "metadata": {
      "needs_background": "light"
     },
     "output_type": "display_data"
    }
   ],
   "source": [
    "df4 = weather_df.loc[weather_df.latitude > 0].reset_index(drop=True)\n",
    "\n",
    "x_values = df4['latitude']\n",
    "y_values = df4['humidity']\n",
    "\n",
    "(slope, intercept, rvalue, pvalue, stderr) = linregress(x_values, y_values)\n",
    "regress_values = x_values * slope + intercept\n",
    "line_eq = \"y = \" + str(round(slope,2)) + \"x + \" + str(round(intercept,2))\n",
    "\n",
    "plt.scatter(x_values,y_values)\n",
    "plt.plot(x_values,regress_values,\"r-\")\n",
    "plt.annotate(line_eq,(10,0),fontsize=15,color=\"red\")\n",
    "plt.xlabel('latitude')\n",
    "plt.ylabel('humidity')\n",
    "print(f\"The r-squared is: {rvalue**2}\")\n",
    "plt.show()"
   ]
  },
  {
   "cell_type": "markdown",
   "metadata": {},
   "source": [
    "The scatter plot and regession model above shows that there is a slight correlation in data for cities in humidity and latitude, where the higher the latitude of the city, generally the humidity will be higher as well."
   ]
  },
  {
   "cell_type": "markdown",
   "metadata": {},
   "source": [
    "####  Southern Hemisphere - Humidity (%) vs. Latitude Linear Regression"
   ]
  },
  {
   "cell_type": "code",
   "execution_count": 43,
   "metadata": {},
   "outputs": [
    {
     "name": "stdout",
     "output_type": "stream",
     "text": [
      "The r-squared is: 0.10244239752093504\n"
     ]
    },
    {
     "data": {
      "image/png": "[encoded data removed]",
      "text/plain": [
       "<Figure size 432x288 with 1 Axes>"
      ]
     },
     "metadata": {
      "needs_background": "light"
     },
     "output_type": "display_data"
    }
   ],
   "source": [
    "df5 = weather_df.loc[weather_df.latitude < 0].reset_index(drop=True)\n",
    "\n",
    "x_values = df5['latitude']\n",
    "y_values = df5['humidity']\n",
    "\n",
    "(slope, intercept, rvalue, pvalue, stderr) = linregress(x_values, y_values)\n",
    "regress_values = x_values * slope + intercept\n",
    "line_eq = \"y = \" + str(round(slope,2)) + \"x + \" + str(round(intercept,2))\n",
    "\n",
    "plt.scatter(x_values,y_values)\n",
    "plt.plot(x_values,regress_values,\"r-\")\n",
    "plt.annotate(line_eq,(10,0),fontsize=15,color=\"red\")\n",
    "plt.xlabel('latitude')\n",
    "plt.ylabel('humidity')\n",
    "print(f\"The r-squared is: {rvalue**2}\")\n",
    "plt.show()"
   ]
  },
  {
   "cell_type": "markdown",
   "metadata": {},
   "source": [
    "The scatter plot and regession model above shows that there is a slight correlation in data for cities in humidity and latitude, where the higher the latitude of the city, generally the humidity will be higher as well."
   ]
  },
  {
   "cell_type": "markdown",
   "metadata": {},
   "source": [
    "####  Northern Hemisphere - Cloudiness (%) vs. Latitude Linear Regression"
   ]
  },
  {
   "cell_type": "code",
   "execution_count": 44,
   "metadata": {},
   "outputs": [
    {
     "name": "stdout",
     "output_type": "stream",
     "text": [
      "The r-squared is: 0.06897681195995455\n"
     ]
    },
    {
     "data": {
      "image/png": "[encoded data removed]",
      "text/plain": [
       "<Figure size 432x288 with 1 Axes>"
      ]
     },
     "metadata": {
      "needs_background": "light"
     },
     "output_type": "display_data"
    }
   ],
   "source": [
    "df6 = weather_df.loc[weather_df.latitude > 0].reset_index(drop=True)\n",
    "\n",
    "x_values = df6['latitude']\n",
    "y_values = df6['cloudiness']\n",
    "\n",
    "(slope, intercept, rvalue, pvalue, stderr) = linregress(x_values, y_values)\n",
    "regress_values = x_values * slope + intercept\n",
    "line_eq = \"y = \" + str(round(slope,2)) + \"x + \" + str(round(intercept,2))\n",
    "\n",
    "plt.scatter(x_values,y_values)\n",
    "plt.plot(x_values,regress_values,\"r-\")\n",
    "plt.annotate(line_eq,(10,0),fontsize=15,color=\"red\")\n",
    "plt.xlabel('latitude')\n",
    "plt.ylabel('cloudiness')\n",
    "print(f\"The r-squared is: {rvalue**2}\")\n",
    "plt.show()"
   ]
  },
  {
   "cell_type": "markdown",
   "metadata": {},
   "source": [
    "The scatter plot and regession model above shows that there is a not much of a correlation in data for cities in cloudiness and latitude, however, most cities either appear to be not cloudy at all or very cloudy."
   ]
  },
  {
   "cell_type": "markdown",
   "metadata": {},
   "source": [
    "####  Southern Hemisphere - Cloudiness (%) vs. Latitude Linear Regression"
   ]
  },
  {
   "cell_type": "code",
   "execution_count": 45,
   "metadata": {},
   "outputs": [
    {
     "name": "stdout",
     "output_type": "stream",
     "text": [
      "The r-squared is: 0.1104965835378601\n"
     ]
    },
    {
     "data": {
      "image/png": "[encoded data removed]",
      "text/plain": [
       "<Figure size 432x288 with 1 Axes>"
      ]
     },
     "metadata": {
      "needs_background": "light"
     },
     "output_type": "display_data"
    }
   ],
   "source": [
    "df7 = weather_df.loc[weather_df.latitude < 0].reset_index(drop=True)\n",
    "\n",
    "x_values = df7['latitude']\n",
    "y_values = df7['cloudiness']\n",
    "\n",
    "(slope, intercept, rvalue, pvalue, stderr) = linregress(x_values, y_values)\n",
    "regress_values = x_values * slope + intercept\n",
    "line_eq = \"y = \" + str(round(slope,2)) + \"x + \" + str(round(intercept,2))\n",
    "\n",
    "plt.scatter(x_values,y_values)\n",
    "plt.plot(x_values,regress_values,\"r-\")\n",
    "plt.annotate(line_eq,(10,0),fontsize=15,color=\"red\")\n",
    "plt.xlabel('latitude')\n",
    "plt.ylabel('cloudiness')\n",
    "print(f\"The r-squared is: {rvalue**2}\")\n",
    "plt.show()"
   ]
  },
  {
   "cell_type": "markdown",
   "metadata": {},
   "source": [
    "The scatter plot and regession model above shows that there is a not much of a correlation in data for cities in cloudiness and latitude, however, most cities either appear to be not cloudy at all or very cloudy."
   ]
  },
  {
   "cell_type": "markdown",
   "metadata": {},
   "source": [
    "####  Northern Hemisphere - Wind Speed (mph) vs. Latitude Linear Regression"
   ]
  },
  {
   "cell_type": "code",
   "execution_count": 46,
   "metadata": {},
   "outputs": [
    {
     "name": "stdout",
     "output_type": "stream",
     "text": [
      "The r-squared is: 0.010657912090913525\n"
     ]
    },
    {
     "data": {
      "image/png": "[encoded data removed]",
      "text/plain": [
       "<Figure size 432x288 with 1 Axes>"
      ]
     },
     "metadata": {
      "needs_background": "light"
     },
     "output_type": "display_data"
    }
   ],
   "source": [
    "df8 = weather_df.loc[weather_df.latitude > 0].reset_index(drop=True)\n",
    "\n",
    "x_values = df8['latitude']\n",
    "y_values = df8['wind_speed']\n",
    "\n",
    "(slope, intercept, rvalue, pvalue, stderr) = linregress(x_values, y_values)\n",
    "regress_values = x_values * slope + intercept\n",
    "line_eq = \"y = \" + str(round(slope,2)) + \"x + \" + str(round(intercept,2))\n",
    "\n",
    "plt.scatter(x_values,y_values)\n",
    "plt.plot(x_values,regress_values,\"r-\")\n",
    "plt.annotate(line_eq,(10,0),fontsize=15,color=\"red\")\n",
    "plt.xlabel('latitude')\n",
    "plt.ylabel('wind speed')\n",
    "print(f\"The r-squared is: {rvalue**2}\")\n",
    "plt.show()"
   ]
  },
  {
   "cell_type": "markdown",
   "metadata": {},
   "source": [
    "The scatter plot and regession model above shows that there is a not much of a correlation in data for cities in wind speed and latitude, however, most cities appear to not have very high wind speeds."
   ]
  },
  {
   "cell_type": "markdown",
   "metadata": {},
   "source": [
    "####  Southern Hemisphere - Wind Speed (mph) vs. Latitude Linear Regression"
   ]
  },
  {
   "cell_type": "code",
   "execution_count": 47,
   "metadata": {
    "scrolled": true
   },
   "outputs": [
    {
     "name": "stdout",
     "output_type": "stream",
     "text": [
      "The r-squared is: 0.07282685801656083\n"
     ]
    },
    {
     "data": {
      "image/png": "[encoded data removed]",
      "text/plain": [
       "<Figure size 432x288 with 1 Axes>"
      ]
     },
     "metadata": {
      "needs_background": "light"
     },
     "output_type": "display_data"
    }
   ],
   "source": [
    "df9 = weather_df.loc[weather_df.latitude < 0].reset_index(drop=True)\n",
    "\n",
    "x_values = df9['latitude']\n",
    "y_values = df9['wind_speed']\n",
    "\n",
    "(slope, intercept, rvalue, pvalue, stderr) = linregress(x_values, y_values)\n",
    "regress_values = x_values * slope + intercept\n",
    "line_eq = \"y = \" + str(round(slope,2)) + \"x + \" + str(round(intercept,2))\n",
    "\n",
    "plt.scatter(x_values,y_values)\n",
    "plt.plot(x_values,regress_values,\"r-\")\n",
    "plt.annotate(line_eq,(10,0),fontsize=15,color=\"red\")\n",
    "plt.xlabel('latitude')\n",
    "plt.ylabel('wind speed')\n",
    "print(f\"The r-squared is: {rvalue**2}\")\n",
    "plt.show()"
   ]
  },
  {
   "cell_type": "markdown",
   "metadata": {},
   "source": [
    "The scatter plot and regession model above shows that there is a not much of a correlation in data for cities in wind speed and latitude, however, most cities appear to not have very high wind speeds."
   ]
  }
 ],
 "metadata": {
  "anaconda-cloud": {},
  "kernel_info": {
   "name": "python3"
  },
  "kernelspec": {
   "display_name": "Python 3 (ipykernel)",
   "language": "python",
   "name": "python3"
  },
  "language_info": {
   "codemirror_mode": {
    "name": "ipython",
    "version": 3
   },
   "file_extension": ".py",
   "mimetype": "text/x-python",
   "name": "python",
   "nbconvert_exporter": "python",
   "pygments_lexer": "ipython3",
   "version": "3.9.12"
  },
  "latex_envs": {
   "LaTeX_envs_menu_present": true,
   "autoclose": false,
   "autocomplete": true,
   "bibliofile": "biblio.bib",
   "cite_by": "apalike",
   "current_citInitial": 1,
   "eqLabelWithNumbers": true,
   "eqNumInitial": 1,
   "hotkeys": {
    "equation": "Ctrl-E",
    "itemize": "Ctrl-I"
   },
   "labels_anchors": false,
   "latex_user_defs": false,
   "report_style_numbering": false,
   "user_envs_cfg": false
  },
  "nteract": {
   "version": "0.12.3"
  }
 },
 "nbformat": 4,
 "nbformat_minor": 2
}
