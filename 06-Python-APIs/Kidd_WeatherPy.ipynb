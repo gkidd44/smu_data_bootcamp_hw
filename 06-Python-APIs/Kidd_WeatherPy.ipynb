{
 "cells": [
  {
   "cell_type": "markdown",
   "metadata": {},
   "source": [
    "# WeatherPy\n",
    "----\n",
    "\n",
    "#### Note\n",
    "* Instructions have been included for each segment. You do not have to follow them exactly, but they are included to help you think through the steps."
   ]
  },
  {
   "cell_type": "code",
   "execution_count": 4,
   "metadata": {
    "scrolled": true
   },
   "outputs": [],
   "source": [
    "# Dependencies and Setup\n",
    "import matplotlib.pyplot as plt\n",
    "import pandas as pd\n",
    "import numpy as np\n",
    "import requests\n",
    "import time\n",
    "from scipy.stats import linregress\n",
    "\n",
    "# Import API key\n",
    "from api_keys import weather_api_key\n",
    "\n",
    "# Incorporated citipy to determine city based on latitude and longitude\n",
    "from citipy import citipy\n",
    "\n",
    "# Output File (CSV)\n",
    "output_data_file = \"output_data/cities.csv\"\n",
    "\n",
    "# Range of latitudes and longitudes\n",
    "lat_range = (-90, 90)\n",
    "lng_range = (-180, 180)"
   ]
  },
  {
   "cell_type": "markdown",
   "metadata": {},
   "source": [
    "## Generate Cities List"
   ]
  },
  {
   "cell_type": "code",
   "execution_count": 5,
   "metadata": {},
   "outputs": [
    {
     "data": {
      "text/plain": [
       "632"
      ]
     },
     "execution_count": 5,
     "metadata": {},
     "output_type": "execute_result"
    }
   ],
   "source": [
    "# List for holding lat_lngs and cities\n",
    "lat_lngs = []\n",
    "cities = []\n",
    "\n",
    "# Create a set of random lat and lng combinations\n",
    "lats = np.random.uniform(lat_range[0], lat_range[1], size=1500)\n",
    "lngs = np.random.uniform(lng_range[0], lng_range[1], size=1500)\n",
    "lat_lngs = zip(lats, lngs)\n",
    "\n",
    "# Identify nearest city for each lat, lng combination\n",
    "for lat_lng in lat_lngs:\n",
    "    city = citipy.nearest_city(lat_lng[0], lat_lng[1]).city_name\n",
    "    \n",
    "    # If the city is unique, then add it to a our cities list\n",
    "    if city not in cities:\n",
    "        cities.append(city)\n",
    "\n",
    "# Print the city count to confirm sufficient count\n",
    "len(cities)"
   ]
  },
  {
   "cell_type": "code",
   "execution_count": 6,
   "metadata": {},
   "outputs": [
    {
     "name": "stdout",
     "output_type": "stream",
     "text": [
      "1. tuktoyaktuk\n",
      "2. bredasdorp\n",
      "3. arraial do cabo\n",
      "4. hithadhoo\n",
      "5. kodiak\n",
      "6. puerto ayora\n",
      "7. port alfred\n",
      "8. portland\n",
      "9. faanui\n",
      "10. hambantota\n",
      "11. toccoa\n",
      "12. mar del plata\n",
      "13. sakakah\n",
      "14. mys shmidta\n",
      "15. akdepe\n",
      "16. mergui\n",
      "17. rikitea\n",
      "18. jamestown\n",
      "19. rio gallegos\n",
      "20. norman wells\n",
      "21. port elizabeth\n",
      "22. mataura\n",
      "23. santa maria\n",
      "24. atuona\n",
      "25. busselton\n",
      "26. solwezi\n",
      "27. sur\n",
      "28. kulu\n",
      "29. bluff\n",
      "30. korla\n",
      "31. mahebourg\n",
      "32. carnarvon\n",
      "33. natal\n",
      "34. longyearbyen\n",
      "35. ushuaia\n",
      "36. margate\n",
      "37. mayo\n",
      "38. oxapampa\n",
      "39. saint-philippe\n",
      "40. garissa\n",
      "41. stornoway\n",
      "42. burlington\n",
      "43. suarez\n",
      "44. dalbandin\n",
      "45. albany\n",
      "46. provideniya\n",
      "47. punta arenas\n",
      "48. lebu\n",
      "49. mecca\n",
      "50. enkoping\n",
      "51. hermanus\n",
      "52. faya\n",
      "53. cape town\n",
      "54. alvand\n",
      "55. komsomolskiy\n",
      "56. barrow\n",
      "57. tubruq\n",
      "58. hokitika\n",
      "59. samarai\n",
      "60. coahuayana\n",
      "61. georgetown\n",
      "62. nuuk\n",
      "63. chunian\n",
      "64. mullaitivu\n",
      "65. luziania\n",
      "66. kerman\n",
      "67. kurchum\n",
      "68. visnes\n",
      "69. manicore\n",
      "70. fare\n",
      "71. camacupa\n",
      "72. vaini\n",
      "73. adeje\n",
      "74. tumannyy\n",
      "75. havoysund\n",
      "76. taormina\n",
      "77. butajira\n",
      "78. nikolskoye\n",
      "79. omboue\n",
      "80. cidreira\n",
      "81. iqaluit\n",
      "82. kangaba\n",
      "83. totness\n",
      "84. dunedin\n",
      "85. gubkinskiy\n",
      "86. kapaa\n",
      "87. torbay\n",
      "88. roela\n",
      "89. erenhot\n",
      "90. taltal\n",
      "91. illoqqortoormiut\n",
      "92. victoria\n",
      "93. zhanaozen\n",
      "94. nemuro\n",
      "95. puri\n",
      "96. san carlos\n",
      "97. krasnokamensk\n",
      "98. moron\n",
      "99. saldanha\n",
      "100. gorontalo\n",
      "101. ahipara\n",
      "102. roxas\n",
      "103. leningradskiy\n",
      "104. barentsburg\n",
      "105. new norfolk\n",
      "106. butaritari\n",
      "107. ust-kalmanka\n",
      "108. derzhavinsk\n",
      "109. khatanga\n",
      "110. kaeo\n",
      "111. birin\n",
      "112. saskylakh\n",
      "113. camuy\n",
      "114. george\n",
      "115. san juan de los morros\n",
      "116. isangel\n",
      "117. yar-sale\n",
      "118. shimoda\n",
      "119. airai\n",
      "120. bilma\n",
      "121. mbengwi\n",
      "122. fortuna\n",
      "123. san cristobal\n",
      "124. kirakira\n",
      "125. taolanaro\n",
      "126. amapa\n",
      "127. hobart\n",
      "128. hilo\n",
      "129. chumikan\n",
      "130. kaduna\n",
      "131. bethel\n",
      "132. port augusta\n",
      "133. honiara\n",
      "134. muros\n",
      "135. lavrentiya\n",
      "136. troitsko-pechorsk\n",
      "137. dingle\n",
      "138. ponta do sol\n",
      "139. muzhi\n",
      "140. atikokan\n",
      "141. bambous virieux\n",
      "142. chicomuselo\n",
      "143. tasiilaq\n",
      "144. avarua\n",
      "145. zhuhai\n",
      "146. chuy\n",
      "147. klaksvik\n",
      "148. belushya guba\n",
      "149. bahia blanca\n",
      "150. thompson\n",
      "151. sentyabrskiy\n",
      "152. turukhansk\n",
      "153. vangaindrano\n",
      "154. atar\n",
      "155. biak\n",
      "156. claveria\n",
      "157. tabory\n",
      "158. saleaula\n",
      "159. talcahuano\n",
      "160. college\n",
      "161. dongsheng\n",
      "162. maragogi\n",
      "163. pandan\n",
      "164. wanxian\n",
      "165. port macquarie\n",
      "166. antigonish\n",
      "167. vao\n",
      "168. aloleng\n",
      "169. mingaora\n",
      "170. upernavik\n",
      "171. orlik\n",
      "172. harper\n",
      "173. japura\n",
      "174. dwarka\n",
      "175. guilin\n",
      "176. kavaratti\n",
      "177. belmonte\n",
      "178. atasu\n",
      "179. puksoozero\n",
      "180. nizhneyansk\n",
      "181. los llanos de aridane\n",
      "182. charlestown\n",
      "183. sandwick\n",
      "184. ugoofaaru\n",
      "185. santa isabel do rio negro\n",
      "186. vila velha\n",
      "187. guatire\n",
      "188. tabiauea\n",
      "189. chokurdakh\n",
      "190. brookhaven\n",
      "191. qaanaaq\n",
      "192. yellowknife\n",
      "193. cabo san lucas\n",
      "194. cambridge\n",
      "195. mahibadhoo\n",
      "196. winnemucca\n",
      "197. staroutkinsk\n",
      "198. lusambo\n",
      "199. whitecourt\n",
      "200. huilong\n",
      "201. kamenka\n",
      "202. edewecht\n",
      "203. umm lajj\n",
      "204. kaputa\n",
      "205. dayong\n",
      "206. ilulissat\n",
      "207. dikson\n",
      "208. caravelas\n",
      "209. tsihombe\n",
      "210. vaitupu\n",
      "211. richards bay\n",
      "212. woodward\n",
      "213. hasaki\n",
      "214. kununurra\n",
      "215. mrirt\n",
      "216. bangolo\n",
      "217. aykhal\n",
      "218. lagoa\n",
      "219. grindavik\n",
      "220. bengkulu\n",
      "221. jiangyou\n",
      "222. codrington\n",
      "223. sioux lookout\n",
      "224. ancud\n",
      "225. kyshtovka\n",
      "226. salinopolis\n",
      "227. bajo baudo\n",
      "228. paucartambo\n",
      "229. buffalo\n",
      "230. uvalde\n",
      "231. the valley\n",
      "232. sobolevo\n",
      "233. nantucket\n",
      "234. vanavara\n",
      "235. lingao\n",
      "236. rawson\n",
      "237. esperance\n",
      "238. kruisfontein\n",
      "239. laguna\n",
      "240. gisborne\n",
      "241. denpasar\n",
      "242. katsuura\n",
      "243. coari\n",
      "244. vilyuysk\n",
      "245. meyungs\n",
      "246. katherine\n",
      "247. sovata\n",
      "248. anadyr\n",
      "249. skalistyy\n",
      "250. tautira\n",
      "251. leo\n",
      "252. cockburn town\n",
      "253. vardo\n",
      "254. formosa\n",
      "255. nenjiang\n",
      "256. souillac\n",
      "257. kloulklubed\n",
      "258. hualmay\n",
      "259. loralai\n",
      "260. severo-kurilsk\n",
      "261. narsaq\n",
      "262. belfort\n",
      "263. vostok\n",
      "264. vitimskiy\n",
      "265. porto santo\n",
      "266. itarema\n",
      "267. caceres\n",
      "268. rundu\n",
      "269. aktau\n",
      "270. port hardy\n",
      "271. taquarana\n",
      "272. east london\n",
      "273. balsas\n",
      "274. wukari\n",
      "275. linxia\n",
      "276. tazovskiy\n",
      "277. beringovskiy\n",
      "278. juneau\n",
      "279. tuatapere\n",
      "280. chkalovskoye\n",
      "281. port lincoln\n",
      "282. talakan\n",
      "283. hay river\n",
      "284. warrington\n",
      "285. petrolandia\n",
      "286. sassandra\n",
      "287. camacha\n",
      "288. lorengau\n",
      "289. nouadhibou\n",
      "290. sitka\n",
      "291. lyuban\n",
      "292. tiksi\n",
      "293. altamira\n",
      "294. meulaboh\n",
      "295. conceicao do araguaia\n",
      "296. mount isa\n",
      "297. grajau\n",
      "298. ayan\n",
      "299. rivera\n",
      "300. havre-saint-pierre\n",
      "301. havelock\n",
      "302. ouidah\n",
      "303. sikonge\n",
      "304. kavieng\n",
      "305. lucea\n",
      "306. inirida\n",
      "307. banda aceh\n",
      "308. sabang\n",
      "309. brae\n",
      "310. lucapa\n",
      "311. zabol\n",
      "312. louisbourg\n",
      "313. kaitangata\n",
      "314. urengoy\n",
      "315. belaya gora\n",
      "316. tual\n",
      "317. rabo de peixe\n",
      "318. tarnow\n",
      "319. batagay-alyta\n",
      "320. vicksburg\n",
      "321. klamath falls\n",
      "322. puerto barrios\n",
      "323. jijiang\n",
      "324. falealupo\n",
      "325. kadugannawa\n",
      "326. awjilah\n",
      "327. coihaique\n",
      "328. nanortalik\n",
      "329. bani walid\n",
      "330. sinnamary\n",
      "331. nha trang\n",
      "332. amos\n",
      "333. chiriguana\n",
      "334. burnie\n",
      "335. la spezia\n",
      "336. north platte\n",
      "337. pevek\n",
      "338. ogawara\n",
      "339. pithora\n",
      "340. kosya\n",
      "341. omaruru\n",
      "342. matagami\n",
      "343. pacific grove\n",
      "344. clyde river\n",
      "345. tulum\n",
      "346. castro\n",
      "347. verkhneye dubrovo\n",
      "348. hopkinsville\n",
      "349. luderitz\n",
      "350. takoradi\n",
      "351. thunder bay\n",
      "352. alibag\n",
      "353. mandalgovi\n",
      "354. karaidel\n",
      "355. butembo\n",
      "356. sao jose da coroa grande\n",
      "357. hofn\n",
      "358. san-pedro\n",
      "359. san patricio\n",
      "360. labuhan\n",
      "361. chernyshevskiy\n",
      "362. broome\n",
      "363. kahului\n",
      "364. burica\n",
      "365. gunzenhausen\n",
      "366. ambovombe\n",
      "367. funtua\n",
      "368. baghmara\n",
      "369. attawapiskat\n",
      "370. kamenskoye\n",
      "371. tevaitoa\n",
      "372. emerald\n",
      "373. ponta delgada\n",
      "374. enugu\n",
      "375. roura\n",
      "376. bonthe\n",
      "377. christchurch\n",
      "378. gazanjyk\n",
      "379. borger\n",
      "380. saint-leu\n",
      "381. scottsbluff\n",
      "382. maceio\n",
      "383. ulladulla\n",
      "384. ust-nera\n",
      "385. amderma\n",
      "386. tilichiki\n",
      "387. dolores\n",
      "388. opuwo\n",
      "389. road town\n",
      "390. bubaque\n",
      "391. pringsewu\n",
      "392. arcos\n",
      "393. nuevo progreso\n",
      "394. batagay\n",
      "395. pisco\n",
      "396. srednekolymsk\n",
      "397. abu dhabi\n",
      "398. cua\n",
      "399. arlit\n",
      "400. marion\n",
      "401. yilan\n",
      "402. kibakwe\n",
      "403. fort smith\n",
      "404. wajima\n",
      "405. tura\n",
      "406. grand-lahou\n",
      "407. sawtell\n",
      "408. tigil\n",
      "409. fort nelson\n",
      "410. nioki\n",
      "411. warqla\n",
      "412. birao\n",
      "413. ribeira grande\n",
      "414. boa vista\n",
      "415. kutum\n",
      "416. igarka\n",
      "417. saint george\n",
      "418. mongar\n",
      "419. urumqi\n",
      "420. stamsund\n",
      "421. sorvag\n",
      "422. tessalit\n",
      "423. miri\n",
      "424. luau\n",
      "425. bend\n",
      "426. lompoc\n",
      "427. paita\n",
      "428. yatou\n",
      "429. namibe\n",
      "430. ewa beach\n",
      "431. san buenaventura\n",
      "432. machico\n",
      "433. siaya\n",
      "434. lewistown\n",
      "435. palmer\n",
      "436. ahvaz\n",
      "437. skibbereen\n",
      "438. smithers\n",
      "439. north marysville\n",
      "440. tonekabon\n",
      "441. geraldton\n",
      "442. mount airy\n",
      "443. boulsa\n",
      "444. general pico\n",
      "445. cody\n",
      "446. sao sebastiao\n",
      "447. fortuna foothills\n",
      "448. port-gentil\n",
      "449. mayumba\n",
      "450. innisfail\n",
      "451. la ronge\n",
      "452. yulara\n",
      "453. zeya\n",
      "454. great yarmouth\n",
      "455. vestmanna\n",
      "456. kedgwick\n",
      "457. nishihara\n",
      "458. mabaruma\n",
      "459. menongue\n",
      "460. karpathos\n",
      "461. constitucion\n",
      "462. nioro\n",
      "463. luba\n",
      "464. severo-yeniseyskiy\n",
      "465. utiroa\n",
      "466. plover\n",
      "467. male\n",
      "468. olga\n",
      "469. chagda\n",
      "470. nuevo san juan parangaricutiro\n",
      "471. sinnar\n",
      "472. buala\n",
      "473. kushiro\n",
      "474. alta floresta\n",
      "475. talnakh\n",
      "476. kalmunai\n",
      "477. axim\n",
      "478. pimenteiras\n",
      "479. guarapari\n",
      "480. khairagarh\n",
      "481. dhamnod\n",
      "482. rio grande\n",
      "483. strezhevoy\n",
      "484. alofi\n",
      "485. marawi\n",
      "486. pangody\n",
      "487. mae hong son\n",
      "488. jiwani\n",
      "489. viedma\n",
      "490. port arthur\n",
      "491. finschhafen\n",
      "492. qianan\n",
      "493. nueva loja\n",
      "494. vanimo\n",
      "495. padang\n",
      "496. karachi\n",
      "497. henties bay\n",
      "498. sao filipe\n",
      "499. coos bay\n",
      "500. vetrni\n",
      "501. cozumel\n",
      "502. dolinsk\n",
      "503. champerico\n",
      "504. zuenoula\n",
      "505. ulaangom\n",
      "506. madisonville\n",
      "507. inuvik\n",
      "508. udachnyy\n",
      "509. hirara\n",
      "510. hami\n",
      "511. zimovniki\n",
      "512. kemin\n",
      "513. zhashkiv\n",
      "514. yevsino\n",
      "515. sukumo\n",
      "516. furano\n",
      "517. amasya\n",
      "518. longonjo\n",
      "519. cortes\n",
      "520. nabire\n",
      "521. touros\n",
      "522. krasnoselkup\n",
      "523. floro\n",
      "524. kamina\n",
      "525. mumford\n",
      "526. dalen\n",
      "527. cirebon\n",
      "528. rampur\n",
      "529. mangrol\n",
      "530. hervey bay\n",
      "531. kamiiso\n",
      "532. san vicente\n",
      "533. santa cruz de tenerife\n",
      "534. pokhara\n",
      "535. macheng\n",
      "536. pokrovsk-uralskiy\n",
      "537. flin flon\n",
      "538. navrongo\n",
      "539. barawe\n",
      "540. haines junction\n",
      "541. naze\n",
      "542. toliary\n",
      "543. pontes e lacerda\n",
      "544. ijaki\n",
      "545. verkhoyansk\n",
      "546. stephenville\n",
      "547. lasa\n",
      "548. estevan\n",
      "549. antofagasta\n",
      "550. krasnyy chikoy\n",
      "551. bicaz\n",
      "552. wasilla\n",
      "553. husavik\n",
      "554. isabela\n",
      "555. iralaya\n",
      "556. paciran\n",
      "557. miass\n",
      "558. san policarpo\n",
      "559. ambodifototra\n",
      "560. bongaree\n",
      "561. hamilton\n",
      "562. dovers\n",
      "563. ngama\n",
      "564. crestview\n",
      "565. chapais\n",
      "566. mayor pablo lagerenza\n",
      "567. ninghai\n",
      "568. huai thalaeng\n",
      "569. preston\n",
      "570. creel\n",
      "571. ouegoa\n",
      "572. leh\n",
      "573. kazachinskoye\n",
      "574. culfa\n",
      "575. lata\n",
      "576. petropavlovsk-kamchatskiy\n",
      "577. kibondo\n",
      "578. nizip\n",
      "579. atagay\n",
      "580. noumea\n",
      "581. pacasmayo\n",
      "582. putnam\n",
      "583. yenotayevka\n",
      "584. sofiysk\n",
      "585. samusu\n",
      "586. kazalinsk\n",
      "587. amuntai\n",
      "588. hurricane\n",
      "589. dergachi\n",
      "590. dergaon\n",
      "591. nyurba\n",
      "592. moissala\n",
      "593. urubamba\n",
      "594. oranjemund\n",
      "595. soyo\n",
      "596. maniitsoq\n",
      "597. puerto suarez\n",
      "598. sedlcany\n",
      "599. saint-joseph\n",
      "600. plettenberg bay\n",
      "601. ambilobe\n",
      "602. bertoua\n",
      "603. okhotsk\n",
      "604. paradwip\n",
      "605. suez\n",
      "606. tsuruoka\n",
      "607. nouakchott\n",
      "608. xichang\n",
      "609. xining\n",
      "610. bandarbeyla\n",
      "611. njinikom\n",
      "612. coolum beach\n",
      "613. goreloye\n",
      "614. orbetello\n",
      "615. chardara\n",
      "616. cururupu\n",
      "617. yushu\n",
      "618. tuggurt\n",
      "619. mezen\n",
      "620. ishigaki\n",
      "621. cherskiy\n",
      "622. priargunsk\n",
      "623. deputatskiy\n",
      "624. stege\n",
      "625. bowen\n",
      "626. altayskoye\n",
      "627. taseyevo\n",
      "628. san quintin\n",
      "629. sao miguel do araguaia\n",
      "630. medea\n",
      "631. candawaga\n",
      "632. cap-aux-meules\n"
     ]
    }
   ],
   "source": [
    "i = 0\n",
    "for city in cities:\n",
    "    i+=1\n",
    "    print(f\"{i}. {city}\")"
   ]
  },
  {
   "cell_type": "markdown",
   "metadata": {},
   "source": [
    "### Perform API Calls\n",
    "* Perform a weather check on each city using a series of successive API calls.\n",
    "* Include a print log of each city as it'sbeing processed (with the city number and city name).\n"
   ]
  },
  {
   "cell_type": "code",
   "execution_count": 7,
   "metadata": {
    "scrolled": true
   },
   "outputs": [
    {
     "name": "stdout",
     "output_type": "stream",
     "text": [
      "\n",
      "Index: 0, City: tuktoyaktuk\n",
      "\n",
      "Index: 50, City: hermanus\n",
      "no lat/long for kurchum\n",
      "no lat/long for tumannyy\n",
      "no lat/long for gubkinskiy\n",
      "\n",
      "Index: 100, City: ahipara\n",
      "no lat/long for yar-sale\n",
      "no lat/long for taolanaro\n",
      "\n",
      "Index: 150, City: sentyabrskiy\n",
      "no lat/long for sentyabrskiy\n",
      "no lat/long for saleaula\n",
      "no lat/long for ugoofaaru\n",
      "no lat/long for tabiauea\n",
      "\n",
      "Index: 200, City: kamenka\n",
      "no lat/long for mrirt\n",
      "no lat/long for meyungs\n",
      "no lat/long for skalistyy\n",
      "\n",
      "Index: 250, City: leo\n",
      "no lat/long for vitimskiy\n",
      "no lat/long for tazovskiy\n",
      "no lat/long for beringovskiy\n",
      "\n",
      "Index: 300, City: havelock\n",
      "no lat/long for kosya\n",
      "\n",
      "Index: 350, City: thunder bay\n",
      "no lat/long for gazanjyk\n",
      "\n",
      "Index: 400, City: yilan\n",
      "no lat/long for warqla\n",
      "no lat/long for north marysville\n",
      "\n",
      "Index: 450, City: la ronge\n",
      "no lat/long for severo-yeniseyskiy\n",
      "no lat/long for chagda\n",
      "no lat/long for qianan\n",
      "\n",
      "Index: 500, City: cozumel\n",
      "no lat/long for pokrovsk-uralskiy\n",
      "no lat/long for toliary\n",
      "\n",
      "Index: 550, City: bicaz\n",
      "\n",
      "Index: 600, City: ambilobe\n",
      "no lat/long for paradwip\n",
      "no lat/long for cherskiy\n"
     ]
    }
   ],
   "source": [
    "# This code cell is taken from the course instructor's starter code file. I do not claim writing it, but I do understand what\n",
    "# it is doing, in that it is requesting info from the Weather API, receiving it, and compiling it in a list for further use.\n",
    "\n",
    "rows = []\n",
    "\n",
    "for i in range(len(cities)):\n",
    "    city = cities[i]\n",
    "    \n",
    "    # only print every 50th city\n",
    "    if i % 50 == 0:\n",
    "        print()\n",
    "        print(f\"Index: {i}, City: {city}\")\n",
    "    \n",
    "    row = {}\n",
    "    try:\n",
    "    \n",
    "        # get the geocode, lat and long\n",
    "        url = f\"http://api.openweathermap.org/geo/1.0/direct?q={city}&appid={weather_api_key}\"\n",
    "        response = requests.get(url)\n",
    "\n",
    "        if (response.status_code == 200):\n",
    "            data = response.json()\n",
    "\n",
    "            # parse data\n",
    "            if (len(data) > 0):\n",
    "                lat = data[0][\"lat\"]\n",
    "                lon = data[0][\"lon\"]\n",
    "\n",
    "                # make second request to get weather\n",
    "                url2 = f'https://api.openweathermap.org/data/2.5/weather?lat={lat}&lon={lon}&appid={weather_api_key}&units=imperial'\n",
    "                response2 = requests.get(url2)\n",
    "\n",
    "                if (response2.status_code == 200):\n",
    "                    data2 = response2.json()\n",
    "\n",
    "                    # parse data\n",
    "                    weather = data2[\"weather\"][0][\"main\"]\n",
    "                    temp = data2[\"main\"][\"temp\"]\n",
    "                    humid = data2[\"main\"][\"humidity\"]\n",
    "                    pressure = data2[\"main\"][\"pressure\"]\n",
    "                    wind = data2[\"wind\"][\"speed\"]\n",
    "                    clouds = data2[\"clouds\"][\"all\"]\n",
    "                else:\n",
    "                    print(f\"Weather request failed for {city}\")\n",
    "                    weather = None\n",
    "                    temp = np.nan\n",
    "                    humid = np.nan\n",
    "                    pressure = np.nan\n",
    "                    wind = np.nan\n",
    "                    clouds = np.nan\n",
    "\n",
    "                # put into flat dictionary\n",
    "                row[\"city\"] = city\n",
    "                row[\"latitude\"] = lat\n",
    "                row[\"longitude\"] = lon\n",
    "                row[\"weather\"] = weather\n",
    "                row[\"temperature\"] = temp\n",
    "                row[\"humidity\"] = humid\n",
    "                row[\"pressure\"] = pressure\n",
    "                row[\"wind_speed\"] = wind\n",
    "                row[\"cloudiness\"] = clouds\n",
    "\n",
    "                # append to list\n",
    "                rows.append(row)\n",
    "\n",
    "            else:\n",
    "                print(f\"no lat/long for {city}\")\n",
    "                pass\n",
    "        else:\n",
    "            print(f\"failed request for geocode for {city}\")\n",
    "            pass\n",
    "    except Exception as e:\n",
    "        print(e)\n",
    "        print(f\"Oh no! Everything failed and broke for {city}. There should be an error above. Sux\")\n",
    "        print()\n",
    "        \n",
    "    # sleep\n",
    "    time.sleep(2)"
   ]
  },
  {
   "cell_type": "markdown",
   "metadata": {},
   "source": [
    "### Convert Raw Data to DataFrame\n",
    "* Export the city data into a .csv.\n",
    "* Display the DataFrame"
   ]
  },
  {
   "cell_type": "code",
   "execution_count": 8,
   "metadata": {},
   "outputs": [
    {
     "data": {
      "text/html": [
       "<div>\n",
       "<style scoped>\n",
       "    .dataframe tbody tr th:only-of-type {\n",
       "        vertical-align: middle;\n",
       "    }\n",
       "\n",
       "    .dataframe tbody tr th {\n",
       "        vertical-align: top;\n",
       "    }\n",
       "\n",
       "    .dataframe thead th {\n",
       "        text-align: right;\n",
       "    }\n",
       "</style>\n",
       "<table border=\"1\" class=\"dataframe\">\n",
       "  <thead>\n",
       "    <tr style=\"text-align: right;\">\n",
       "      <th></th>\n",
       "      <th>city</th>\n",
       "      <th>latitude</th>\n",
       "      <th>longitude</th>\n",
       "      <th>weather</th>\n",
       "      <th>temperature</th>\n",
       "      <th>humidity</th>\n",
       "      <th>pressure</th>\n",
       "      <th>wind_speed</th>\n",
       "      <th>cloudiness</th>\n",
       "    </tr>\n",
       "  </thead>\n",
       "  <tbody>\n",
       "    <tr>\n",
       "      <th>0</th>\n",
       "      <td>tuktoyaktuk</td>\n",
       "      <td>69.444019</td>\n",
       "      <td>-133.031904</td>\n",
       "      <td>Clouds</td>\n",
       "      <td>-4.00</td>\n",
       "      <td>84</td>\n",
       "      <td>1025</td>\n",
       "      <td>6.91</td>\n",
       "      <td>40</td>\n",
       "    </tr>\n",
       "    <tr>\n",
       "      <th>1</th>\n",
       "      <td>bredasdorp</td>\n",
       "      <td>-34.533055</td>\n",
       "      <td>20.042778</td>\n",
       "      <td>Clouds</td>\n",
       "      <td>69.35</td>\n",
       "      <td>89</td>\n",
       "      <td>1012</td>\n",
       "      <td>2.59</td>\n",
       "      <td>56</td>\n",
       "    </tr>\n",
       "    <tr>\n",
       "      <th>2</th>\n",
       "      <td>arraial do cabo</td>\n",
       "      <td>-22.966284</td>\n",
       "      <td>-42.024427</td>\n",
       "      <td>Clouds</td>\n",
       "      <td>73.38</td>\n",
       "      <td>64</td>\n",
       "      <td>1014</td>\n",
       "      <td>6.91</td>\n",
       "      <td>40</td>\n",
       "    </tr>\n",
       "    <tr>\n",
       "      <th>3</th>\n",
       "      <td>hithadhoo</td>\n",
       "      <td>1.795942</td>\n",
       "      <td>73.387552</td>\n",
       "      <td>Clouds</td>\n",
       "      <td>81.00</td>\n",
       "      <td>74</td>\n",
       "      <td>1009</td>\n",
       "      <td>10.83</td>\n",
       "      <td>79</td>\n",
       "    </tr>\n",
       "    <tr>\n",
       "      <th>4</th>\n",
       "      <td>kodiak</td>\n",
       "      <td>57.790000</td>\n",
       "      <td>-152.407222</td>\n",
       "      <td>Clouds</td>\n",
       "      <td>35.11</td>\n",
       "      <td>100</td>\n",
       "      <td>1016</td>\n",
       "      <td>0.00</td>\n",
       "      <td>100</td>\n",
       "    </tr>\n",
       "  </tbody>\n",
       "</table>\n",
       "</div>"
      ],
      "text/plain": [
       "              city   latitude   longitude weather  temperature  humidity  \\\n",
       "0      tuktoyaktuk  69.444019 -133.031904  Clouds        -4.00        84   \n",
       "1       bredasdorp -34.533055   20.042778  Clouds        69.35        89   \n",
       "2  arraial do cabo -22.966284  -42.024427  Clouds        73.38        64   \n",
       "3        hithadhoo   1.795942   73.387552  Clouds        81.00        74   \n",
       "4           kodiak  57.790000 -152.407222  Clouds        35.11       100   \n",
       "\n",
       "   pressure  wind_speed  cloudiness  \n",
       "0      1025        6.91          40  \n",
       "1      1012        2.59          56  \n",
       "2      1014        6.91          40  \n",
       "3      1009       10.83          79  \n",
       "4      1016        0.00         100  "
      ]
     },
     "execution_count": 8,
     "metadata": {},
     "output_type": "execute_result"
    }
   ],
   "source": [
    "weather_df = pd.DataFrame(rows)\n",
    "weather_df.head()"
   ]
  },
  {
   "cell_type": "code",
   "execution_count": 9,
   "metadata": {},
   "outputs": [
    {
     "data": {
      "text/html": [
       "<div>\n",
       "<style scoped>\n",
       "    .dataframe tbody tr th:only-of-type {\n",
       "        vertical-align: middle;\n",
       "    }\n",
       "\n",
       "    .dataframe tbody tr th {\n",
       "        vertical-align: top;\n",
       "    }\n",
       "\n",
       "    .dataframe thead th {\n",
       "        text-align: right;\n",
       "    }\n",
       "</style>\n",
       "<table border=\"1\" class=\"dataframe\">\n",
       "  <thead>\n",
       "    <tr style=\"text-align: right;\">\n",
       "      <th></th>\n",
       "      <th>latitude</th>\n",
       "      <th>longitude</th>\n",
       "      <th>temperature</th>\n",
       "      <th>humidity</th>\n",
       "      <th>pressure</th>\n",
       "      <th>wind_speed</th>\n",
       "      <th>cloudiness</th>\n",
       "    </tr>\n",
       "  </thead>\n",
       "  <tbody>\n",
       "    <tr>\n",
       "      <th>count</th>\n",
       "      <td>606.000000</td>\n",
       "      <td>606.000000</td>\n",
       "      <td>606.000000</td>\n",
       "      <td>606.000000</td>\n",
       "      <td>606.000000</td>\n",
       "      <td>606.000000</td>\n",
       "      <td>606.000000</td>\n",
       "    </tr>\n",
       "    <tr>\n",
       "      <th>mean</th>\n",
       "      <td>21.458234</td>\n",
       "      <td>15.193679</td>\n",
       "      <td>48.577079</td>\n",
       "      <td>75.353135</td>\n",
       "      <td>1015.084158</td>\n",
       "      <td>7.698168</td>\n",
       "      <td>58.004950</td>\n",
       "    </tr>\n",
       "    <tr>\n",
       "      <th>std</th>\n",
       "      <td>32.110606</td>\n",
       "      <td>89.295713</td>\n",
       "      <td>30.460147</td>\n",
       "      <td>20.265528</td>\n",
       "      <td>10.378674</td>\n",
       "      <td>5.639074</td>\n",
       "      <td>38.978337</td>\n",
       "    </tr>\n",
       "    <tr>\n",
       "      <th>min</th>\n",
       "      <td>-54.806116</td>\n",
       "      <td>-179.413096</td>\n",
       "      <td>-51.920000</td>\n",
       "      <td>12.000000</td>\n",
       "      <td>967.000000</td>\n",
       "      <td>0.000000</td>\n",
       "      <td>0.000000</td>\n",
       "    </tr>\n",
       "    <tr>\n",
       "      <th>25%</th>\n",
       "      <td>-3.740802</td>\n",
       "      <td>-63.037512</td>\n",
       "      <td>27.047500</td>\n",
       "      <td>66.000000</td>\n",
       "      <td>1009.000000</td>\n",
       "      <td>3.495000</td>\n",
       "      <td>19.000000</td>\n",
       "    </tr>\n",
       "    <tr>\n",
       "      <th>50%</th>\n",
       "      <td>26.471210</td>\n",
       "      <td>15.202939</td>\n",
       "      <td>59.250000</td>\n",
       "      <td>79.500000</td>\n",
       "      <td>1012.500000</td>\n",
       "      <td>6.555000</td>\n",
       "      <td>69.000000</td>\n",
       "    </tr>\n",
       "    <tr>\n",
       "      <th>75%</th>\n",
       "      <td>47.575982</td>\n",
       "      <td>90.082140</td>\n",
       "      <td>73.765000</td>\n",
       "      <td>91.000000</td>\n",
       "      <td>1020.000000</td>\n",
       "      <td>10.390000</td>\n",
       "      <td>99.000000</td>\n",
       "    </tr>\n",
       "    <tr>\n",
       "      <th>max</th>\n",
       "      <td>81.142079</td>\n",
       "      <td>178.680784</td>\n",
       "      <td>87.530000</td>\n",
       "      <td>100.000000</td>\n",
       "      <td>1058.000000</td>\n",
       "      <td>39.820000</td>\n",
       "      <td>100.000000</td>\n",
       "    </tr>\n",
       "  </tbody>\n",
       "</table>\n",
       "</div>"
      ],
      "text/plain": [
       "         latitude   longitude  temperature    humidity     pressure  \\\n",
       "count  606.000000  606.000000   606.000000  606.000000   606.000000   \n",
       "mean    21.458234   15.193679    48.577079   75.353135  1015.084158   \n",
       "std     32.110606   89.295713    30.460147   20.265528    10.378674   \n",
       "min    -54.806116 -179.413096   -51.920000   12.000000   967.000000   \n",
       "25%     -3.740802  -63.037512    27.047500   66.000000  1009.000000   \n",
       "50%     26.471210   15.202939    59.250000   79.500000  1012.500000   \n",
       "75%     47.575982   90.082140    73.765000   91.000000  1020.000000   \n",
       "max     81.142079  178.680784    87.530000  100.000000  1058.000000   \n",
       "\n",
       "       wind_speed  cloudiness  \n",
       "count  606.000000  606.000000  \n",
       "mean     7.698168   58.004950  \n",
       "std      5.639074   38.978337  \n",
       "min      0.000000    0.000000  \n",
       "25%      3.495000   19.000000  \n",
       "50%      6.555000   69.000000  \n",
       "75%     10.390000   99.000000  \n",
       "max     39.820000  100.000000  "
      ]
     },
     "execution_count": 9,
     "metadata": {},
     "output_type": "execute_result"
    }
   ],
   "source": [
    "weather_df.describe()"
   ]
  },
  {
   "cell_type": "code",
   "execution_count": 10,
   "metadata": {},
   "outputs": [],
   "source": [
    "weather_df.to_csv(output_data_file, index=False)"
   ]
  },
  {
   "cell_type": "markdown",
   "metadata": {},
   "source": [
    "## Inspect the data and remove the cities where the humidity > 100%.\n",
    "----\n",
    "Skip this step if there are no cities that have humidity > 100%. "
   ]
  },
  {
   "cell_type": "code",
   "execution_count": 11,
   "metadata": {},
   "outputs": [
    {
     "data": {
      "text/html": [
       "<div>\n",
       "<style scoped>\n",
       "    .dataframe tbody tr th:only-of-type {\n",
       "        vertical-align: middle;\n",
       "    }\n",
       "\n",
       "    .dataframe tbody tr th {\n",
       "        vertical-align: top;\n",
       "    }\n",
       "\n",
       "    .dataframe thead th {\n",
       "        text-align: right;\n",
       "    }\n",
       "</style>\n",
       "<table border=\"1\" class=\"dataframe\">\n",
       "  <thead>\n",
       "    <tr style=\"text-align: right;\">\n",
       "      <th></th>\n",
       "      <th>city</th>\n",
       "      <th>latitude</th>\n",
       "      <th>longitude</th>\n",
       "      <th>weather</th>\n",
       "      <th>temperature</th>\n",
       "      <th>humidity</th>\n",
       "      <th>pressure</th>\n",
       "      <th>wind_speed</th>\n",
       "      <th>cloudiness</th>\n",
       "    </tr>\n",
       "  </thead>\n",
       "  <tbody>\n",
       "  </tbody>\n",
       "</table>\n",
       "</div>"
      ],
      "text/plain": [
       "Empty DataFrame\n",
       "Columns: [city, latitude, longitude, weather, temperature, humidity, pressure, wind_speed, cloudiness]\n",
       "Index: []"
      ]
     },
     "execution_count": 11,
     "metadata": {},
     "output_type": "execute_result"
    }
   ],
   "source": [
    "mask = weather_df.humidity > 100\n",
    "weather_df.loc[mask]"
   ]
  },
  {
   "cell_type": "code",
   "execution_count": 12,
   "metadata": {},
   "outputs": [
    {
     "name": "stdout",
     "output_type": "stream",
     "text": [
      "<class 'pandas.core.frame.DataFrame'>\n",
      "RangeIndex: 606 entries, 0 to 605\n",
      "Data columns (total 9 columns):\n",
      " #   Column       Non-Null Count  Dtype  \n",
      "---  ------       --------------  -----  \n",
      " 0   city         606 non-null    object \n",
      " 1   latitude     606 non-null    float64\n",
      " 2   longitude    606 non-null    float64\n",
      " 3   weather      606 non-null    object \n",
      " 4   temperature  606 non-null    float64\n",
      " 5   humidity     606 non-null    int64  \n",
      " 6   pressure     606 non-null    int64  \n",
      " 7   wind_speed   606 non-null    float64\n",
      " 8   cloudiness   606 non-null    int64  \n",
      "dtypes: float64(4), int64(3), object(2)\n",
      "memory usage: 42.7+ KB\n"
     ]
    }
   ],
   "source": [
    "weather_df.info()"
   ]
  },
  {
   "cell_type": "markdown",
   "metadata": {},
   "source": [
    "## Plotting the Data\n",
    "* Use proper labeling of the plots using plot titles (including date of analysis) and axes labels.\n",
    "* Save the plotted figures as .pngs."
   ]
  },
  {
   "cell_type": "markdown",
   "metadata": {},
   "source": [
    "## Latitude vs. Temperature Plot"
   ]
  },
  {
   "cell_type": "code",
   "execution_count": 26,
   "metadata": {
    "scrolled": false
   },
   "outputs": [
    {
     "data": {
      "image/png": "[encoded data removed]",
      "text/plain": [
       "<Figure size 720x432 with 1 Axes>"
      ]
     },
     "metadata": {},
     "output_type": "display_data"
    }
   ],
   "source": [
    "import seaborn as sns\n",
    "sns.set(style=\"darkgrid\")\n",
    "plt.figure(figsize=(10,6))\n",
    "plt.scatter(weather_df.latitude, weather_df.temperature)\n",
    "plt.title(\"Latitude vs Temperature - 09NOV2022\")\n",
    "plt.xlabel('Latitude')\n",
    "plt.ylabel('Temperature')\n",
    "plt.show()"
   ]
  },
  {
   "cell_type": "markdown",
   "metadata": {},
   "source": [
    "The above scatter plot displays data for the current temperature of all of the cities of interest, versus their latitude value on the Earth."
   ]
  },
  {
   "cell_type": "markdown",
   "metadata": {},
   "source": [
    "## Latitude vs. Humidity Plot"
   ]
  },
  {
   "cell_type": "code",
   "execution_count": 28,
   "metadata": {
    "scrolled": false
   },
   "outputs": [
    {
     "data": {
      "image/png": "[encoded data removed]",
      "text/plain": [
       "<Figure size 720x432 with 1 Axes>"
      ]
     },
     "metadata": {},
     "output_type": "display_data"
    }
   ],
   "source": [
    "sns.set(style=\"darkgrid\")\n",
    "plt.figure(figsize=(10,6))\n",
    "plt.scatter(weather_df.latitude, weather_df.humidity)\n",
    "plt.title(\"Latitude vs Humidity - 09NOV2022\")\n",
    "plt.xlabel('Latitude')\n",
    "plt.ylabel('Humidity (%)')\n",
    "plt.show()"
   ]
  },
  {
   "cell_type": "markdown",
   "metadata": {},
   "source": [
    "The above scatter plot displays data for the current humidity of all of the cities of interest, versus their latitude value on the Earth. Data appears to show that humidity is higher as latitude is higher."
   ]
  },
  {
   "cell_type": "markdown",
   "metadata": {},
   "source": [
    "## Latitude vs. Cloudiness Plot"
   ]
  },
  {
   "cell_type": "code",
   "execution_count": 29,
   "metadata": {
    "scrolled": false
   },
   "outputs": [
    {
     "data": {
      "image/png": "[encoded data removed]",
      "text/plain": [
       "<Figure size 720x432 with 1 Axes>"
      ]
     },
     "metadata": {},
     "output_type": "display_data"
    }
   ],
   "source": [
    "sns.set(style=\"darkgrid\")\n",
    "plt.figure(figsize=(10,6))\n",
    "plt.scatter(weather_df.latitude, weather_df.cloudiness)\n",
    "plt.title(\"Latitude vs Cloudiness - 09NOV2022\")\n",
    "plt.xlabel('Latitude')\n",
    "plt.ylabel('Cloudiness (%)')\n",
    "plt.show()"
   ]
  },
  {
   "cell_type": "markdown",
   "metadata": {},
   "source": [
    "The above scatter plot displays data for the current cloudiness percentage of all of the cities of interest, versus their latitude value on the Earth. Data appears to show that cloudiness varies and does not correlate with latitude."
   ]
  },
  {
   "cell_type": "markdown",
   "metadata": {},
   "source": [
    "## Latitude vs. Wind Speed Plot"
   ]
  },
  {
   "cell_type": "code",
   "execution_count": 30,
   "metadata": {
    "scrolled": false
   },
   "outputs": [
    {
     "data": {
      "image/png": "[encoded data removed]",
      "text/plain": [
       "<Figure size 720x432 with 1 Axes>"
      ]
     },
     "metadata": {},
     "output_type": "display_data"
    }
   ],
   "source": [
    "sns.set(style=\"darkgrid\")\n",
    "plt.figure(figsize=(10,6))\n",
    "plt.scatter(weather_df.latitude, weather_df.wind_speed)\n",
    "plt.title(\"Latitude vs Wind Speed - 09NOV2022\")\n",
    "plt.xlabel('Latitude')\n",
    "plt.ylabel('Wind Speed (meters/sec)')\n",
    "plt.show()"
   ]
  },
  {
   "cell_type": "markdown",
   "metadata": {},
   "source": [
    "The above scatter plot displays data for the current wind speed of all of the cities of interest, versus their latitude value on the Earth. Data appears to show that wind speed is generally below 10 meters per second, regardless of a city's latitude."
   ]
  },
  {
   "cell_type": "markdown",
   "metadata": {},
   "source": [
    "## Linear Regression"
   ]
  },
  {
   "cell_type": "markdown",
   "metadata": {},
   "source": [
    "####  Northern Hemisphere - Max Temp vs. Latitude Linear Regression"
   ]
  },
  {
   "cell_type": "code",
   "execution_count": 17,
   "metadata": {},
   "outputs": [
    {
     "name": "stdout",
     "output_type": "stream",
     "text": [
      "The r-squared is: 0.7289586712100267\n"
     ]
    },
    {
     "data": {
      "image/png": "[encoded data removed]",
      "text/plain": [
       "<Figure size 432x288 with 1 Axes>"
      ]
     },
     "metadata": {
      "needs_background": "light"
     },
     "output_type": "display_data"
    }
   ],
   "source": [
    "# The code cell again is borrowed and credited to the course instructor with some minor tweaks. I do understand that this code\n",
    "# is constructing a scatter plot of max temp vs latitude for cities located in the northern hemisphere, and also displaying a \n",
    "# regression line that emphasizes a correlation of data for as a city is higher in latitude, it is also lower in temperature.\n",
    "\n",
    "df2 = weather_df.loc[weather_df.latitude > 0].reset_index(drop=True)\n",
    "\n",
    "# Print out the r-squared value along with the plot.\n",
    "x_values = df2['latitude']\n",
    "y_values = df2['temperature']\n",
    "\n",
    "(slope, intercept, rvalue, pvalue, stderr) = linregress(x_values, y_values)\n",
    "regress_values = x_values * slope + intercept\n",
    "line_eq = \"y = \" + str(round(slope,2)) + \"x + \" + str(round(intercept,2))\n",
    "\n",
    "plt.scatter(x_values,y_values)\n",
    "plt.plot(x_values,regress_values,\"r-\")\n",
    "plt.annotate(line_eq,(10,0),fontsize=15,color=\"red\")\n",
    "plt.xlabel('latitude')\n",
    "plt.ylabel('temperature')\n",
    "print(f\"The r-squared is: {rvalue**2}\")\n",
    "plt.show()"
   ]
  },
  {
   "cell_type": "markdown",
   "metadata": {},
   "source": [
    "The scatter plot and regession model above shows that there is a correlation in data for cities in latitude and temperature, where the higher the latitude of the city, generally the temperature will be lower."
   ]
  },
  {
   "cell_type": "markdown",
   "metadata": {},
   "source": [
    "####  Southern Hemisphere - Max Temp vs. Latitude Linear Regression"
   ]
  },
  {
   "cell_type": "code",
   "execution_count": 18,
   "metadata": {},
   "outputs": [
    {
     "name": "stdout",
     "output_type": "stream",
     "text": [
      "The r-squared is: 0.30143187152490264\n"
     ]
    },
    {
     "data": {
      "image/png": "[encoded data removed]",
      "text/plain": [
       "<Figure size 432x288 with 1 Axes>"
      ]
     },
     "metadata": {
      "needs_background": "light"
     },
     "output_type": "display_data"
    }
   ],
   "source": [
    "df3 = weather_df.loc[weather_df.latitude < 0].reset_index(drop=True)\n",
    "\n",
    "x_values = df3['latitude']\n",
    "y_values = df3['temperature']\n",
    "\n",
    "(slope, intercept, rvalue, pvalue, stderr) = linregress(x_values, y_values)\n",
    "regress_values = x_values * slope + intercept\n",
    "line_eq = \"y = \" + str(round(slope,2)) + \"x + \" + str(round(intercept,2))\n",
    "\n",
    "plt.scatter(x_values,y_values)\n",
    "plt.plot(x_values,regress_values,\"r-\")\n",
    "plt.annotate(line_eq,(10,0),fontsize=15,color=\"red\")\n",
    "plt.xlabel('latitude')\n",
    "plt.ylabel('temperature')\n",
    "print(f\"The r-squared is: {rvalue**2}\")\n",
    "plt.show()"
   ]
  },
  {
   "cell_type": "markdown",
   "metadata": {},
   "source": [
    "The scatter plot and regession model above shows that there is a correlation in data for cities in latitude and temperature, where the higher the latitude of the city, generally the temperature will be higher as well."
   ]
  },
  {
   "cell_type": "markdown",
   "metadata": {},
   "source": [
    "####  Northern Hemisphere - Humidity (%) vs. Latitude Linear Regression"
   ]
  },
  {
   "cell_type": "code",
   "execution_count": 19,
   "metadata": {},
   "outputs": [
    {
     "name": "stdout",
     "output_type": "stream",
     "text": [
      "The r-squared is: 0.11693570270738686\n"
     ]
    },
    {
     "data": {
      "image/png": "[encoded data removed]",
      "text/plain": [
       "<Figure size 432x288 with 1 Axes>"
      ]
     },
     "metadata": {
      "needs_background": "light"
     },
     "output_type": "display_data"
    }
   ],
   "source": [
    "df4 = weather_df.loc[weather_df.latitude > 0].reset_index(drop=True)\n",
    "\n",
    "x_values = df4['latitude']\n",
    "y_values = df4['humidity']\n",
    "\n",
    "(slope, intercept, rvalue, pvalue, stderr) = linregress(x_values, y_values)\n",
    "regress_values = x_values * slope + intercept\n",
    "line_eq = \"y = \" + str(round(slope,2)) + \"x + \" + str(round(intercept,2))\n",
    "\n",
    "plt.scatter(x_values,y_values)\n",
    "plt.plot(x_values,regress_values,\"r-\")\n",
    "plt.annotate(line_eq,(10,0),fontsize=15,color=\"red\")\n",
    "plt.xlabel('latitude')\n",
    "plt.ylabel('humidity')\n",
    "print(f\"The r-squared is: {rvalue**2}\")\n",
    "plt.show()"
   ]
  },
  {
   "cell_type": "markdown",
   "metadata": {},
   "source": [
    "The scatter plot and regession model above shows that there is a slight correlation in data for cities in humidity and latitude, where the higher the latitude of the city, generally the humidity will be higher as well."
   ]
  },
  {
   "cell_type": "markdown",
   "metadata": {},
   "source": [
    "####  Southern Hemisphere - Humidity (%) vs. Latitude Linear Regression"
   ]
  },
  {
   "cell_type": "code",
   "execution_count": 20,
   "metadata": {},
   "outputs": [
    {
     "name": "stdout",
     "output_type": "stream",
     "text": [
      "The r-squared is: 0.1420667954454598\n"
     ]
    },
    {
     "data": {
      "image/png": "[encoded data removed]",
      "text/plain": [
       "<Figure size 432x288 with 1 Axes>"
      ]
     },
     "metadata": {
      "needs_background": "light"
     },
     "output_type": "display_data"
    }
   ],
   "source": [
    "df5 = weather_df.loc[weather_df.latitude < 0].reset_index(drop=True)\n",
    "\n",
    "x_values = df5['latitude']\n",
    "y_values = df5['humidity']\n",
    "\n",
    "(slope, intercept, rvalue, pvalue, stderr) = linregress(x_values, y_values)\n",
    "regress_values = x_values * slope + intercept\n",
    "line_eq = \"y = \" + str(round(slope,2)) + \"x + \" + str(round(intercept,2))\n",
    "\n",
    "plt.scatter(x_values,y_values)\n",
    "plt.plot(x_values,regress_values,\"r-\")\n",
    "plt.annotate(line_eq,(10,0),fontsize=15,color=\"red\")\n",
    "plt.xlabel('latitude')\n",
    "plt.ylabel('humidity')\n",
    "print(f\"The r-squared is: {rvalue**2}\")\n",
    "plt.show()"
   ]
  },
  {
   "cell_type": "markdown",
   "metadata": {},
   "source": [
    "The scatter plot and regession model above shows that there is a slight correlation in data for cities in humidity and latitude, where the higher the latitude of the city, generally the humidity will be higher as well."
   ]
  },
  {
   "cell_type": "markdown",
   "metadata": {},
   "source": [
    "####  Northern Hemisphere - Cloudiness (%) vs. Latitude Linear Regression"
   ]
  },
  {
   "cell_type": "code",
   "execution_count": 21,
   "metadata": {},
   "outputs": [
    {
     "name": "stdout",
     "output_type": "stream",
     "text": [
      "The r-squared is: 0.08435540636355139\n"
     ]
    },
    {
     "data": {
      "image/png": "[encoded data removed]",
      "text/plain": [
       "<Figure size 432x288 with 1 Axes>"
      ]
     },
     "metadata": {
      "needs_background": "light"
     },
     "output_type": "display_data"
    }
   ],
   "source": [
    "df6 = weather_df.loc[weather_df.latitude > 0].reset_index(drop=True)\n",
    "\n",
    "x_values = df6['latitude']\n",
    "y_values = df6['cloudiness']\n",
    "\n",
    "(slope, intercept, rvalue, pvalue, stderr) = linregress(x_values, y_values)\n",
    "regress_values = x_values * slope + intercept\n",
    "line_eq = \"y = \" + str(round(slope,2)) + \"x + \" + str(round(intercept,2))\n",
    "\n",
    "plt.scatter(x_values,y_values)\n",
    "plt.plot(x_values,regress_values,\"r-\")\n",
    "plt.annotate(line_eq,(10,0),fontsize=15,color=\"red\")\n",
    "plt.xlabel('latitude')\n",
    "plt.ylabel('cloudiness')\n",
    "print(f\"The r-squared is: {rvalue**2}\")\n",
    "plt.show()"
   ]
  },
  {
   "cell_type": "markdown",
   "metadata": {},
   "source": [
    "The scatter plot and regession model above shows that there is a not much of a correlation in data for cities in cloudiness and latitude, however, most cities either appear to be not cloudy at all or very cloudy."
   ]
  },
  {
   "cell_type": "markdown",
   "metadata": {},
   "source": [
    "####  Southern Hemisphere - Cloudiness (%) vs. Latitude Linear Regression"
   ]
  },
  {
   "cell_type": "code",
   "execution_count": 22,
   "metadata": {},
   "outputs": [
    {
     "name": "stdout",
     "output_type": "stream",
     "text": [
      "The r-squared is: 0.16101817016061912\n"
     ]
    },
    {
     "data": {
      "image/png": "[encoded data removed]",
      "text/plain": [
       "<Figure size 432x288 with 1 Axes>"
      ]
     },
     "metadata": {
      "needs_background": "light"
     },
     "output_type": "display_data"
    }
   ],
   "source": [
    "df7 = weather_df.loc[weather_df.latitude < 0].reset_index(drop=True)\n",
    "\n",
    "x_values = df7['latitude']\n",
    "y_values = df7['cloudiness']\n",
    "\n",
    "(slope, intercept, rvalue, pvalue, stderr) = linregress(x_values, y_values)\n",
    "regress_values = x_values * slope + intercept\n",
    "line_eq = \"y = \" + str(round(slope,2)) + \"x + \" + str(round(intercept,2))\n",
    "\n",
    "plt.scatter(x_values,y_values)\n",
    "plt.plot(x_values,regress_values,\"r-\")\n",
    "plt.annotate(line_eq,(10,0),fontsize=15,color=\"red\")\n",
    "plt.xlabel('latitude')\n",
    "plt.ylabel('cloudiness')\n",
    "print(f\"The r-squared is: {rvalue**2}\")\n",
    "plt.show()"
   ]
  },
  {
   "cell_type": "markdown",
   "metadata": {},
   "source": [
    "The scatter plot and regession model above shows that there is a not much of a correlation in data for cities in cloudiness and latitude, however, most cities either appear to be not cloudy at all or very cloudy."
   ]
  },
  {
   "cell_type": "markdown",
   "metadata": {},
   "source": [
    "####  Northern Hemisphere - Wind Speed (mph) vs. Latitude Linear Regression"
   ]
  },
  {
   "cell_type": "code",
   "execution_count": 23,
   "metadata": {},
   "outputs": [
    {
     "name": "stdout",
     "output_type": "stream",
     "text": [
      "The r-squared is: 0.031078763773915684\n"
     ]
    },
    {
     "data": {
      "image/png": "[encoded data removed]",
      "text/plain": [
       "<Figure size 432x288 with 1 Axes>"
      ]
     },
     "metadata": {
      "needs_background": "light"
     },
     "output_type": "display_data"
    }
   ],
   "source": [
    "df8 = weather_df.loc[weather_df.latitude > 0].reset_index(drop=True)\n",
    "\n",
    "x_values = df8['latitude']\n",
    "y_values = df8['wind_speed']\n",
    "\n",
    "(slope, intercept, rvalue, pvalue, stderr) = linregress(x_values, y_values)\n",
    "regress_values = x_values * slope + intercept\n",
    "line_eq = \"y = \" + str(round(slope,2)) + \"x + \" + str(round(intercept,2))\n",
    "\n",
    "plt.scatter(x_values,y_values)\n",
    "plt.plot(x_values,regress_values,\"r-\")\n",
    "plt.annotate(line_eq,(10,0),fontsize=15,color=\"red\")\n",
    "plt.xlabel('latitude')\n",
    "plt.ylabel('wind speed')\n",
    "print(f\"The r-squared is: {rvalue**2}\")\n",
    "plt.show()"
   ]
  },
  {
   "cell_type": "markdown",
   "metadata": {},
   "source": [
    "The scatter plot and regession model above shows that there is a not much of a correlation in data for cities in wind speed and latitude, however, most cities appear to not have very high wind speeds."
   ]
  },
  {
   "cell_type": "markdown",
   "metadata": {},
   "source": [
    "####  Southern Hemisphere - Wind Speed (mph) vs. Latitude Linear Regression"
   ]
  },
  {
   "cell_type": "code",
   "execution_count": 24,
   "metadata": {
    "scrolled": true
   },
   "outputs": [
    {
     "name": "stdout",
     "output_type": "stream",
     "text": [
      "The r-squared is: 0.15593952240973574\n"
     ]
    },
    {
     "data": {
      "image/png": "[encoded data removed]",
      "text/plain": [
       "<Figure size 432x288 with 1 Axes>"
      ]
     },
     "metadata": {
      "needs_background": "light"
     },
     "output_type": "display_data"
    }
   ],
   "source": [
    "df9 = weather_df.loc[weather_df.latitude < 0].reset_index(drop=True)\n",
    "\n",
    "x_values = df9['latitude']\n",
    "y_values = df9['wind_speed']\n",
    "\n",
    "(slope, intercept, rvalue, pvalue, stderr) = linregress(x_values, y_values)\n",
    "regress_values = x_values * slope + intercept\n",
    "line_eq = \"y = \" + str(round(slope,2)) + \"x + \" + str(round(intercept,2))\n",
    "\n",
    "plt.scatter(x_values,y_values)\n",
    "plt.plot(x_values,regress_values,\"r-\")\n",
    "plt.annotate(line_eq,(10,0),fontsize=15,color=\"red\")\n",
    "plt.xlabel('latitude')\n",
    "plt.ylabel('wind speed')\n",
    "print(f\"The r-squared is: {rvalue**2}\")\n",
    "plt.show()"
   ]
  },
  {
   "cell_type": "markdown",
   "metadata": {},
   "source": [
    "The scatter plot and regession model above shows that there is a not much of a correlation in data for cities in wind speed and latitude, however, most cities appear to not have very high wind speeds."
   ]
  }
 ],
 "metadata": {
  "anaconda-cloud": {},
  "kernel_info": {
   "name": "python3"
  },
  "kernelspec": {
   "display_name": "Python 3 (ipykernel)",
   "language": "python",
   "name": "python3"
  },
  "language_info": {
   "codemirror_mode": {
    "name": "ipython",
    "version": 3
   },
   "file_extension": ".py",
   "mimetype": "text/x-python",
   "name": "python",
   "nbconvert_exporter": "python",
   "pygments_lexer": "ipython3",
   "version": "3.9.12"
  },
  "latex_envs": {
   "LaTeX_envs_menu_present": true,
   "autoclose": false,
   "autocomplete": true,
   "bibliofile": "biblio.bib",
   "cite_by": "apalike",
   "current_citInitial": 1,
   "eqLabelWithNumbers": true,
   "eqNumInitial": 1,
   "hotkeys": {
    "equation": "Ctrl-E",
    "itemize": "Ctrl-I"
   },
   "labels_anchors": false,
   "latex_user_defs": false,
   "report_style_numbering": false,
   "user_envs_cfg": false
  },
  "nteract": {
   "version": "0.12.3"
  }
 },
 "nbformat": 4,
 "nbformat_minor": 2
}
